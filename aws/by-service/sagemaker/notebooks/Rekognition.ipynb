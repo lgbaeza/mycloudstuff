{
 "cells": [
  {
   "cell_type": "markdown",
   "metadata": {},
   "source": [
    "# Amazon Rekognition"
   ]
  },
  {
   "cell_type": "markdown",
   "metadata": {},
   "source": [
    "Import packages"
   ]
  },
  {
   "cell_type": "code",
   "execution_count": 325,
   "metadata": {},
   "outputs": [],
   "source": [
    "import boto3\n",
    "import requests\n",
    "import os\n",
    "import matplotlib.pyplot as plt"
   ]
  },
  {
   "cell_type": "code",
   "execution_count": 194,
   "metadata": {},
   "outputs": [],
   "source": [
    "BUCKETNAME = ''"
   ]
  },
  {
   "cell_type": "markdown",
   "metadata": {},
   "source": [
    "Import files to S3"
   ]
  },
  {
   "cell_type": "code",
   "execution_count": 315,
   "metadata": {},
   "outputs": [],
   "source": [
    "def downloadFile(file):\n",
    "    file_name = file[file.rindex('/')+1:]\n",
    "    print(file_name)\n",
    "    r = requests.get(file, allow_redirects=True)\n",
    "    open(file_name, 'wb').write(r.content)\n",
    "    response = s3.upload_file(file_name, BUCKETNAME, \"sports/\"+file_name)\n",
    "    os.remove(file_name)\n",
    "    print(\"ok\")"
   ]
  },
  {
   "cell_type": "code",
   "execution_count": 316,
   "metadata": {},
   "outputs": [],
   "source": [
    "files = [\"https://s3.amazonaws.com/immersiondays.lgbaeza/rekognition/basketball.jpg\",\n",
    "         \"https://s3.amazonaws.com/immersiondays.lgbaeza/rekognition/football.jpg\",\n",
    "         \"https://s3.amazonaws.com/immersiondays.lgbaeza/rekognition/soccer.jpg\",\n",
    "         \"https://s3.amazonaws.com/immersiondays.lgbaeza/rekognition/swim.jpg\",\n",
    "         \"https://s3.amazonaws.com/immersiondays.lgbaeza/rekognition/tennis.jpeg\"]"
   ]
  },
  {
   "cell_type": "code",
   "execution_count": 317,
   "metadata": {},
   "outputs": [
    {
     "name": "stdout",
     "output_type": "stream",
     "text": [
      "basketball.jpg\n",
      "ok\n",
      "football.jpg\n",
      "ok\n",
      "soccer.jpg\n",
      "ok\n",
      "swim.jpg\n",
      "ok\n",
      "tennis.jpeg\n",
      "ok\n"
     ]
    }
   ],
   "source": [
    "for file in files:\n",
    "    downloadFile(file)"
   ]
  },
  {
   "cell_type": "markdown",
   "metadata": {},
   "source": [
    "Rekognition client and logic to extract Sport label"
   ]
  },
  {
   "cell_type": "code",
   "execution_count": 318,
   "metadata": {},
   "outputs": [],
   "source": [
    "rekognition = boto3.client('rekognition')"
   ]
  },
  {
   "cell_type": "code",
   "execution_count": 319,
   "metadata": {},
   "outputs": [],
   "source": [
    "def getLabels(BUCKETNAME, FILENAME):\n",
    "    response = rekognition.detect_labels(\n",
    "        Image={\n",
    "            'S3Object': {\n",
    "                'Bucket': BUCKETNAME,\n",
    "                'Name': FILENAME\n",
    "            }\n",
    "        }\n",
    "    )\n",
    "    d = []\n",
    "    for label in response['Labels']:\n",
    "        d.append({'file': FILENAME, 'label': label['Name'], 'confidence': label['Confidence']})\n",
    "    labels = pd.DataFrame(d)\n",
    "    return labels"
   ]
  },
  {
   "cell_type": "markdown",
   "metadata": {},
   "source": [
    "List all files from S3 and extract sports"
   ]
  },
  {
   "cell_type": "code",
   "execution_count": 320,
   "metadata": {},
   "outputs": [],
   "source": [
    "s3 = boto3.client('s3')"
   ]
  },
  {
   "cell_type": "code",
   "execution_count": 321,
   "metadata": {},
   "outputs": [],
   "source": [
    "s3list = s3.list_objects(\n",
    "    Bucket=BUCKETNAME,\n",
    "    Prefix=\"sports/\"\n",
    ")"
   ]
  },
  {
   "cell_type": "code",
   "execution_count": 322,
   "metadata": {},
   "outputs": [],
   "source": [
    "output = None\n",
    "for file in s3list['Contents']:\n",
    "    if('.jpg' in file['Key']):\n",
    "        response = getLabels(BUCKETNAME, file['Key'])\n",
    "        df = pd.DataFrame(response)\n",
    "        output = pd.concat([output,df])"
   ]
  },
  {
   "cell_type": "code",
   "execution_count": 330,
   "metadata": {},
   "outputs": [
    {
     "data": {
      "text/html": [
       "<div>\n",
       "<style scoped>\n",
       "    .dataframe tbody tr th:only-of-type {\n",
       "        vertical-align: middle;\n",
       "    }\n",
       "\n",
       "    .dataframe tbody tr th {\n",
       "        vertical-align: top;\n",
       "    }\n",
       "\n",
       "    .dataframe thead th {\n",
       "        text-align: right;\n",
       "    }\n",
       "</style>\n",
       "<table border=\"1\" class=\"dataframe\">\n",
       "  <thead>\n",
       "    <tr style=\"text-align: right;\">\n",
       "      <th></th>\n",
       "      <th>file</th>\n",
       "      <th>label</th>\n",
       "      <th>confidence</th>\n",
       "    </tr>\n",
       "  </thead>\n",
       "  <tbody>\n",
       "    <tr>\n",
       "      <th>0</th>\n",
       "      <td>sports/basketball.jpg</td>\n",
       "      <td>Person</td>\n",
       "      <td>98.764290</td>\n",
       "    </tr>\n",
       "    <tr>\n",
       "      <th>1</th>\n",
       "      <td>sports/basketball.jpg</td>\n",
       "      <td>Human</td>\n",
       "      <td>98.764290</td>\n",
       "    </tr>\n",
       "    <tr>\n",
       "      <th>2</th>\n",
       "      <td>sports/basketball.jpg</td>\n",
       "      <td>People</td>\n",
       "      <td>98.151276</td>\n",
       "    </tr>\n",
       "    <tr>\n",
       "      <th>3</th>\n",
       "      <td>sports/basketball.jpg</td>\n",
       "      <td>Team Sport</td>\n",
       "      <td>92.855034</td>\n",
       "    </tr>\n",
       "    <tr>\n",
       "      <th>4</th>\n",
       "      <td>sports/basketball.jpg</td>\n",
       "      <td>Sport</td>\n",
       "      <td>92.855034</td>\n",
       "    </tr>\n",
       "  </tbody>\n",
       "</table>\n",
       "</div>"
      ],
      "text/plain": [
       "                    file       label  confidence\n",
       "0  sports/basketball.jpg      Person   98.764290\n",
       "1  sports/basketball.jpg       Human   98.764290\n",
       "2  sports/basketball.jpg      People   98.151276\n",
       "3  sports/basketball.jpg  Team Sport   92.855034\n",
       "4  sports/basketball.jpg       Sport   92.855034"
      ]
     },
     "execution_count": 330,
     "metadata": {},
     "output_type": "execute_result"
    }
   ],
   "source": [
    "output.head(5)"
   ]
  },
  {
   "cell_type": "markdown",
   "metadata": {},
   "source": [
    "Present"
   ]
  },
  {
   "cell_type": "code",
   "execution_count": 353,
   "metadata": {},
   "outputs": [
    {
     "data": {
      "text/html": [
       "<div>\n",
       "<style scoped>\n",
       "    .dataframe tbody tr th:only-of-type {\n",
       "        vertical-align: middle;\n",
       "    }\n",
       "\n",
       "    .dataframe tbody tr th {\n",
       "        vertical-align: top;\n",
       "    }\n",
       "\n",
       "    .dataframe thead th {\n",
       "        text-align: right;\n",
       "    }\n",
       "</style>\n",
       "<table border=\"1\" class=\"dataframe\">\n",
       "  <thead>\n",
       "    <tr style=\"text-align: right;\">\n",
       "      <th></th>\n",
       "      <th>confidence</th>\n",
       "    </tr>\n",
       "    <tr>\n",
       "      <th>label</th>\n",
       "      <th></th>\n",
       "    </tr>\n",
       "  </thead>\n",
       "  <tbody>\n",
       "    <tr>\n",
       "      <th>American Football</th>\n",
       "      <td>97.362907</td>\n",
       "    </tr>\n",
       "    <tr>\n",
       "      <th>Apparel</th>\n",
       "      <td>90.112946</td>\n",
       "    </tr>\n",
       "    <tr>\n",
       "      <th>Audience</th>\n",
       "      <td>86.058563</td>\n",
       "    </tr>\n",
       "    <tr>\n",
       "      <th>Ball</th>\n",
       "      <td>82.515137</td>\n",
       "    </tr>\n",
       "    <tr>\n",
       "      <th>Baseball</th>\n",
       "      <td>72.922768</td>\n",
       "    </tr>\n",
       "    <tr>\n",
       "      <th>Baseball Glove</th>\n",
       "      <td>72.922768</td>\n",
       "    </tr>\n",
       "    <tr>\n",
       "      <th>Basketball</th>\n",
       "      <td>87.474403</td>\n",
       "    </tr>\n",
       "    <tr>\n",
       "      <th>Clothing</th>\n",
       "      <td>90.112946</td>\n",
       "    </tr>\n",
       "    <tr>\n",
       "      <th>Crash Helmet</th>\n",
       "      <td>68.956490</td>\n",
       "    </tr>\n",
       "    <tr>\n",
       "      <th>Crowd</th>\n",
       "      <td>86.058563</td>\n",
       "    </tr>\n",
       "    <tr>\n",
       "      <th>Football</th>\n",
       "      <td>98.288059</td>\n",
       "    </tr>\n",
       "    <tr>\n",
       "      <th>Football Helmet</th>\n",
       "      <td>94.704544</td>\n",
       "    </tr>\n",
       "    <tr>\n",
       "      <th>Footwear</th>\n",
       "      <td>88.933598</td>\n",
       "    </tr>\n",
       "    <tr>\n",
       "      <th>Glove</th>\n",
       "      <td>72.922768</td>\n",
       "    </tr>\n",
       "    <tr>\n",
       "      <th>Helmet</th>\n",
       "      <td>91.244144</td>\n",
       "    </tr>\n",
       "    <tr>\n",
       "      <th>Human</th>\n",
       "      <td>99.591366</td>\n",
       "    </tr>\n",
       "    <tr>\n",
       "      <th>People</th>\n",
       "      <td>98.587964</td>\n",
       "    </tr>\n",
       "    <tr>\n",
       "      <th>Person</th>\n",
       "      <td>99.591366</td>\n",
       "    </tr>\n",
       "    <tr>\n",
       "      <th>Shoe</th>\n",
       "      <td>88.933598</td>\n",
       "    </tr>\n",
       "    <tr>\n",
       "      <th>Soccer</th>\n",
       "      <td>99.213211</td>\n",
       "    </tr>\n",
       "    <tr>\n",
       "      <th>Soccer Ball</th>\n",
       "      <td>99.213211</td>\n",
       "    </tr>\n",
       "    <tr>\n",
       "      <th>Softball</th>\n",
       "      <td>72.922768</td>\n",
       "    </tr>\n",
       "    <tr>\n",
       "      <th>Sphere</th>\n",
       "      <td>87.674057</td>\n",
       "    </tr>\n",
       "    <tr>\n",
       "      <th>Sport</th>\n",
       "      <td>97.357765</td>\n",
       "    </tr>\n",
       "    <tr>\n",
       "      <th>Sports</th>\n",
       "      <td>97.357765</td>\n",
       "    </tr>\n",
       "    <tr>\n",
       "      <th>Swimming</th>\n",
       "      <td>99.999908</td>\n",
       "    </tr>\n",
       "    <tr>\n",
       "      <th>Team</th>\n",
       "      <td>96.477051</td>\n",
       "    </tr>\n",
       "    <tr>\n",
       "      <th>Team Sport</th>\n",
       "      <td>96.477051</td>\n",
       "    </tr>\n",
       "    <tr>\n",
       "      <th>Water</th>\n",
       "      <td>99.999908</td>\n",
       "    </tr>\n",
       "  </tbody>\n",
       "</table>\n",
       "</div>"
      ],
      "text/plain": [
       "                   confidence\n",
       "label                        \n",
       "American Football   97.362907\n",
       "Apparel             90.112946\n",
       "Audience            86.058563\n",
       "Ball                82.515137\n",
       "Baseball            72.922768\n",
       "Baseball Glove      72.922768\n",
       "Basketball          87.474403\n",
       "Clothing            90.112946\n",
       "Crash Helmet        68.956490\n",
       "Crowd               86.058563\n",
       "Football            98.288059\n",
       "Football Helmet     94.704544\n",
       "Footwear            88.933598\n",
       "Glove               72.922768\n",
       "Helmet              91.244144\n",
       "Human               99.591366\n",
       "People              98.587964\n",
       "Person              99.591366\n",
       "Shoe                88.933598\n",
       "Soccer              99.213211\n",
       "Soccer Ball         99.213211\n",
       "Softball            72.922768\n",
       "Sphere              87.674057\n",
       "Sport               97.357765\n",
       "Sports              97.357765\n",
       "Swimming            99.999908\n",
       "Team                96.477051\n",
       "Team Sport          96.477051\n",
       "Water               99.999908"
      ]
     },
     "execution_count": 353,
     "metadata": {},
     "output_type": "execute_result"
    }
   ],
   "source": [
    "output.groupby(['label']).mean()"
   ]
  },
  {
   "cell_type": "code",
   "execution_count": 355,
   "metadata": {},
   "outputs": [
    {
     "data": {
      "text/plain": [
       "<matplotlib.axes._subplots.AxesSubplot at 0x7fed93221190>"
      ]
     },
     "execution_count": 355,
     "metadata": {},
     "output_type": "execute_result"
    },
    {
     "data": {
      "image/png": "[encoded data removed]",
      "text/plain": [
       "<Figure size 432x288 with 1 Axes>"
      ]
     },
     "metadata": {
      "needs_background": "light"
     },
     "output_type": "display_data"
    }
   ],
   "source": [
    "output.groupby(['label']).mean().plot.bar()"
   ]
  },
  {
   "cell_type": "code",
   "execution_count": null,
   "metadata": {},
   "outputs": [],
   "source": []
  }
 ],
 "metadata": {
  "instance_type": "ml.t3.medium",
  "kernelspec": {
   "display_name": "Python 3 (Data Science)",
   "language": "python",
   "name": "python3__SAGEMAKER_INTERNAL__arn:aws:sagemaker:us-east-1:081325390199:image/datascience-1.0"
  },
  "language_info": {
   "codemirror_mode": {
    "name": "ipython",
    "version": 3
   },
   "file_extension": ".py",
   "mimetype": "text/x-python",
   "name": "python",
   "nbconvert_exporter": "python",
   "pygments_lexer": "ipython3",
   "version": "3.7.10"
  }
 },
 "nbformat": 4,
 "nbformat_minor": 4
}
