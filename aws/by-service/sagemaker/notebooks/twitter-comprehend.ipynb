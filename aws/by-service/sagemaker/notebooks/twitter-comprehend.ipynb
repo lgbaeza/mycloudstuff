{
 "cells": [
  {
   "cell_type": "markdown",
   "metadata": {},
   "source": [
    "# Análisis de datos de twitter con Comprehend"
   ]
  },
  {
   "cell_type": "markdown",
   "metadata": {},
   "source": [
    "## Recuperación de datos con tweepy"
   ]
  },
  {
   "cell_type": "code",
   "execution_count": 149,
   "metadata": {},
   "outputs": [
    {
     "name": "stdout",
     "output_type": "stream",
     "text": [
      "/opt/conda/lib/python3.7/site-packages/secretstorage/dhcrypto.py:16: CryptographyDeprecationWarning: int_from_bytes is deprecated, use int.from_bytes instead\n",
      "  from cryptography.utils import int_from_bytes\n",
      "/opt/conda/lib/python3.7/site-packages/secretstorage/util.py:25: CryptographyDeprecationWarning: int_from_bytes is deprecated, use int.from_bytes instead\n",
      "  from cryptography.utils import int_from_bytes\n",
      "\u001b[33mWARNING: Running pip as the 'root' user can result in broken permissions and conflicting behaviour with the system package manager. It is recommended to use a virtual environment instead: https://pip.pypa.io/warnings/venv\u001b[0m\n",
      "\u001b[33mWARNING: You are using pip version 21.1.3; however, version 21.2.4 is available.\n",
      "You should consider upgrading via the '/opt/conda/bin/python -m pip install --upgrade pip' command.\u001b[0m\n"
     ]
    }
   ],
   "source": [
    "!pip install tweepy --quiet"
   ]
  },
  {
   "cell_type": "code",
   "execution_count": 178,
   "metadata": {},
   "outputs": [],
   "source": [
    "import json\n",
    "import boto3\n",
    "import os\n",
    "import tweepy\n",
    "from tweepy import Stream\n",
    "from tweepy.streaming import StreamListener\n",
    "import pandas as pd"
   ]
  },
  {
   "cell_type": "code",
   "execution_count": 151,
   "metadata": {},
   "outputs": [],
   "source": [
    "consumer_key = \"\"\n",
    "consumer_secret = \"\"\n",
    "access_token = \"\"\n",
    "access_token_secret = \"\"\n",
    "auth = tweepy.OAuthHandler(consumer_key, consumer_secret)\n",
    "auth.set_access_token(access_token, access_token_secret)"
   ]
  },
  {
   "cell_type": "code",
   "execution_count": 152,
   "metadata": {},
   "outputs": [],
   "source": [
    "twitter_stream = Stream(auth,MyListener())\n",
    "twitter = tweepy.API(auth)"
   ]
  },
  {
   "cell_type": "code",
   "execution_count": 153,
   "metadata": {},
   "outputs": [],
   "source": [
    "class MyListener(StreamListener):\n",
    "    def on_data(self,data):\n",
    "        try:\n",
    "            tweet = json.loads(data)\n",
    "            print(tweet['created_at'])\n",
    "            print(tweet['text'])\n",
    "            print(tweet['user']['name'])\n",
    "            print(tweet['user']['location'])\n",
    "            return True\n",
    "        except Exception as e:\n",
    "            print (e)\n",
    "            return True\n",
    "    def on_error(self,status):\n",
    "        print(status)\n",
    "        return True"
   ]
  },
  {
   "cell_type": "code",
   "execution_count": null,
   "metadata": {},
   "outputs": [],
   "source": [
    "twitter_stream.filter(track=[\"aws\"])"
   ]
  },
  {
   "cell_type": "code",
   "execution_count": 155,
   "metadata": {},
   "outputs": [],
   "source": [
    "tweets = twitter.search(lang='es',q=\"awscloud\",location=\"Chile\")"
   ]
  },
  {
   "cell_type": "code",
   "execution_count": 172,
   "metadata": {},
   "outputs": [
    {
     "name": "stdout",
     "output_type": "stream",
     "text": [
      "ok, file don't exists\n"
     ]
    }
   ],
   "source": [
    "filename = \"tweets.json\"\n",
    "try:\n",
    "    with open(filename, \"r\") as f:\n",
    "        print(\"file exists, deleting\")\n",
    "    os.remove(filename)\n",
    "except:\n",
    "    print(\"ok, file don't exists\")"
   ]
  },
  {
   "cell_type": "code",
   "execution_count": 173,
   "metadata": {},
   "outputs": [],
   "source": [
    "with open(filename, \"a\") as f:\n",
    "    f.write(\"[\\r\\n\")\n",
    "    i = 0\n",
    "    for tweet in tweets:\n",
    "        i+=1\n",
    "        f.write(json.dumps(tweet._json)+\"\\r\\n\")\n",
    "        if(i < len(tweets)):\n",
    "            f.write(\",\")\n",
    "    f.write(\"\\r\\n]\")"
   ]
  },
  {
   "cell_type": "code",
   "execution_count": 174,
   "metadata": {},
   "outputs": [],
   "source": [
    "df = pd.read_json(filename)"
   ]
  },
  {
   "cell_type": "code",
   "execution_count": 176,
   "metadata": {},
   "outputs": [
    {
     "data": {
      "text/html": [
       "<div>\n",
       "<style scoped>\n",
       "    .dataframe tbody tr th:only-of-type {\n",
       "        vertical-align: middle;\n",
       "    }\n",
       "\n",
       "    .dataframe tbody tr th {\n",
       "        vertical-align: top;\n",
       "    }\n",
       "\n",
       "    .dataframe thead th {\n",
       "        text-align: right;\n",
       "    }\n",
       "</style>\n",
       "<table border=\"1\" class=\"dataframe\">\n",
       "  <thead>\n",
       "    <tr style=\"text-align: right;\">\n",
       "      <th></th>\n",
       "      <th>created_at</th>\n",
       "      <th>id</th>\n",
       "      <th>id_str</th>\n",
       "      <th>text</th>\n",
       "      <th>truncated</th>\n",
       "      <th>entities</th>\n",
       "      <th>metadata</th>\n",
       "      <th>source</th>\n",
       "      <th>in_reply_to_status_id</th>\n",
       "      <th>in_reply_to_status_id_str</th>\n",
       "      <th>...</th>\n",
       "      <th>contributors</th>\n",
       "      <th>retweeted_status</th>\n",
       "      <th>is_quote_status</th>\n",
       "      <th>retweet_count</th>\n",
       "      <th>favorite_count</th>\n",
       "      <th>favorited</th>\n",
       "      <th>retweeted</th>\n",
       "      <th>lang</th>\n",
       "      <th>possibly_sensitive</th>\n",
       "      <th>extended_entities</th>\n",
       "    </tr>\n",
       "  </thead>\n",
       "  <tbody>\n",
       "    <tr>\n",
       "      <th>0</th>\n",
       "      <td>2021-08-27 03:49:42+00:00</td>\n",
       "      <td>1431101591088734211</td>\n",
       "      <td>1431101591088734208</td>\n",
       "      <td>RT @MonicaOspinaL: Gracias @awscloud por este ...</td>\n",
       "      <td>False</td>\n",
       "      <td>{'hashtags': [], 'symbols': [], 'user_mentions...</td>\n",
       "      <td>{'iso_language_code': 'es', 'result_type': 're...</td>\n",
       "      <td>&lt;a href=\"https://mobile.twitter.com\" rel=\"nofo...</td>\n",
       "      <td>NaN</td>\n",
       "      <td>NaN</td>\n",
       "      <td>...</td>\n",
       "      <td>NaN</td>\n",
       "      <td>{'created_at': 'Thu Aug 26 00:19:54 +0000 2021...</td>\n",
       "      <td>False</td>\n",
       "      <td>2</td>\n",
       "      <td>0</td>\n",
       "      <td>False</td>\n",
       "      <td>False</td>\n",
       "      <td>es</td>\n",
       "      <td>NaN</td>\n",
       "      <td>NaN</td>\n",
       "    </tr>\n",
       "    <tr>\n",
       "      <th>1</th>\n",
       "      <td>2021-08-26 22:30:06+00:00</td>\n",
       "      <td>1431021160188157952</td>\n",
       "      <td>1431021160188157952</td>\n",
       "      <td>RT @AleRam0923: #java #springboot #microservic...</td>\n",
       "      <td>False</td>\n",
       "      <td>{'hashtags': [{'text': 'java', 'indices': [16,...</td>\n",
       "      <td>{'iso_language_code': 'es', 'result_type': 're...</td>\n",
       "      <td>&lt;a href=\"https://help.twitter.com/en/using-twi...</td>\n",
       "      <td>NaN</td>\n",
       "      <td>NaN</td>\n",
       "      <td>...</td>\n",
       "      <td>NaN</td>\n",
       "      <td>{'created_at': 'Thu Aug 26 20:56:58 +0000 2021...</td>\n",
       "      <td>False</td>\n",
       "      <td>3</td>\n",
       "      <td>0</td>\n",
       "      <td>False</td>\n",
       "      <td>False</td>\n",
       "      <td>es</td>\n",
       "      <td>NaN</td>\n",
       "      <td>NaN</td>\n",
       "    </tr>\n",
       "    <tr>\n",
       "      <th>2</th>\n",
       "      <td>2021-08-26 22:13:32+00:00</td>\n",
       "      <td>1431016993600249866</td>\n",
       "      <td>1431016993600249856</td>\n",
       "      <td>RT @AleRam0923: #java #springboot #microservic...</td>\n",
       "      <td>False</td>\n",
       "      <td>{'hashtags': [{'text': 'java', 'indices': [16,...</td>\n",
       "      <td>{'iso_language_code': 'es', 'result_type': 're...</td>\n",
       "      <td>&lt;a href=\"https://script.google.com\" rel=\"nofol...</td>\n",
       "      <td>NaN</td>\n",
       "      <td>NaN</td>\n",
       "      <td>...</td>\n",
       "      <td>NaN</td>\n",
       "      <td>{'created_at': 'Thu Aug 26 20:56:58 +0000 2021...</td>\n",
       "      <td>False</td>\n",
       "      <td>3</td>\n",
       "      <td>0</td>\n",
       "      <td>False</td>\n",
       "      <td>False</td>\n",
       "      <td>es</td>\n",
       "      <td>NaN</td>\n",
       "      <td>NaN</td>\n",
       "    </tr>\n",
       "    <tr>\n",
       "      <th>3</th>\n",
       "      <td>2021-08-26 21:47:24+00:00</td>\n",
       "      <td>1431010416633683973</td>\n",
       "      <td>1431010416633683968</td>\n",
       "      <td>RT @AleRam0923: #java #springboot #microservic...</td>\n",
       "      <td>False</td>\n",
       "      <td>{'hashtags': [{'text': 'java', 'indices': [16,...</td>\n",
       "      <td>{'iso_language_code': 'es', 'result_type': 're...</td>\n",
       "      <td>&lt;a href=\"https://help.twitter.com/en/using-twi...</td>\n",
       "      <td>NaN</td>\n",
       "      <td>NaN</td>\n",
       "      <td>...</td>\n",
       "      <td>NaN</td>\n",
       "      <td>{'created_at': 'Thu Aug 26 20:56:58 +0000 2021...</td>\n",
       "      <td>False</td>\n",
       "      <td>3</td>\n",
       "      <td>0</td>\n",
       "      <td>False</td>\n",
       "      <td>False</td>\n",
       "      <td>es</td>\n",
       "      <td>NaN</td>\n",
       "      <td>NaN</td>\n",
       "    </tr>\n",
       "    <tr>\n",
       "      <th>4</th>\n",
       "      <td>2021-08-26 21:01:08+00:00</td>\n",
       "      <td>1430998772293804038</td>\n",
       "      <td>1430998772293804032</td>\n",
       "      <td>Las organizaciones están utilizando datos para...</td>\n",
       "      <td>True</td>\n",
       "      <td>{'hashtags': [], 'symbols': [], 'user_mentions...</td>\n",
       "      <td>{'iso_language_code': 'es', 'result_type': 're...</td>\n",
       "      <td>&lt;a href=\"http://www.everyonesocial.com\" rel=\"n...</td>\n",
       "      <td>NaN</td>\n",
       "      <td>NaN</td>\n",
       "      <td>...</td>\n",
       "      <td>NaN</td>\n",
       "      <td>NaN</td>\n",
       "      <td>False</td>\n",
       "      <td>0</td>\n",
       "      <td>0</td>\n",
       "      <td>False</td>\n",
       "      <td>False</td>\n",
       "      <td>es</td>\n",
       "      <td>0.0</td>\n",
       "      <td>NaN</td>\n",
       "    </tr>\n",
       "  </tbody>\n",
       "</table>\n",
       "<p>5 rows × 27 columns</p>\n",
       "</div>"
      ],
      "text/plain": [
       "                 created_at                   id               id_str  \\\n",
       "0 2021-08-27 03:49:42+00:00  1431101591088734211  1431101591088734208   \n",
       "1 2021-08-26 22:30:06+00:00  1431021160188157952  1431021160188157952   \n",
       "2 2021-08-26 22:13:32+00:00  1431016993600249866  1431016993600249856   \n",
       "3 2021-08-26 21:47:24+00:00  1431010416633683973  1431010416633683968   \n",
       "4 2021-08-26 21:01:08+00:00  1430998772293804038  1430998772293804032   \n",
       "\n",
       "                                                text  truncated  \\\n",
       "0  RT @MonicaOspinaL: Gracias @awscloud por este ...      False   \n",
       "1  RT @AleRam0923: #java #springboot #microservic...      False   \n",
       "2  RT @AleRam0923: #java #springboot #microservic...      False   \n",
       "3  RT @AleRam0923: #java #springboot #microservic...      False   \n",
       "4  Las organizaciones están utilizando datos para...       True   \n",
       "\n",
       "                                            entities  \\\n",
       "0  {'hashtags': [], 'symbols': [], 'user_mentions...   \n",
       "1  {'hashtags': [{'text': 'java', 'indices': [16,...   \n",
       "2  {'hashtags': [{'text': 'java', 'indices': [16,...   \n",
       "3  {'hashtags': [{'text': 'java', 'indices': [16,...   \n",
       "4  {'hashtags': [], 'symbols': [], 'user_mentions...   \n",
       "\n",
       "                                            metadata  \\\n",
       "0  {'iso_language_code': 'es', 'result_type': 're...   \n",
       "1  {'iso_language_code': 'es', 'result_type': 're...   \n",
       "2  {'iso_language_code': 'es', 'result_type': 're...   \n",
       "3  {'iso_language_code': 'es', 'result_type': 're...   \n",
       "4  {'iso_language_code': 'es', 'result_type': 're...   \n",
       "\n",
       "                                              source  in_reply_to_status_id  \\\n",
       "0  <a href=\"https://mobile.twitter.com\" rel=\"nofo...                    NaN   \n",
       "1  <a href=\"https://help.twitter.com/en/using-twi...                    NaN   \n",
       "2  <a href=\"https://script.google.com\" rel=\"nofol...                    NaN   \n",
       "3  <a href=\"https://help.twitter.com/en/using-twi...                    NaN   \n",
       "4  <a href=\"http://www.everyonesocial.com\" rel=\"n...                    NaN   \n",
       "\n",
       "   in_reply_to_status_id_str  ...  contributors  \\\n",
       "0                        NaN  ...           NaN   \n",
       "1                        NaN  ...           NaN   \n",
       "2                        NaN  ...           NaN   \n",
       "3                        NaN  ...           NaN   \n",
       "4                        NaN  ...           NaN   \n",
       "\n",
       "                                    retweeted_status  is_quote_status  \\\n",
       "0  {'created_at': 'Thu Aug 26 00:19:54 +0000 2021...            False   \n",
       "1  {'created_at': 'Thu Aug 26 20:56:58 +0000 2021...            False   \n",
       "2  {'created_at': 'Thu Aug 26 20:56:58 +0000 2021...            False   \n",
       "3  {'created_at': 'Thu Aug 26 20:56:58 +0000 2021...            False   \n",
       "4                                                NaN            False   \n",
       "\n",
       "  retweet_count  favorite_count  favorited  retweeted  lang  \\\n",
       "0             2               0      False      False    es   \n",
       "1             3               0      False      False    es   \n",
       "2             3               0      False      False    es   \n",
       "3             3               0      False      False    es   \n",
       "4             0               0      False      False    es   \n",
       "\n",
       "  possibly_sensitive  extended_entities  \n",
       "0                NaN                NaN  \n",
       "1                NaN                NaN  \n",
       "2                NaN                NaN  \n",
       "3                NaN                NaN  \n",
       "4                0.0                NaN  \n",
       "\n",
       "[5 rows x 27 columns]"
      ]
     },
     "execution_count": 176,
     "metadata": {},
     "output_type": "execute_result"
    }
   ],
   "source": [
    "df.head()"
   ]
  },
  {
   "cell_type": "markdown",
   "metadata": {},
   "source": [
    "## Análisis de sentimiento"
   ]
  },
  {
   "cell_type": "code",
   "execution_count": 179,
   "metadata": {},
   "outputs": [],
   "source": [
    "comprehend = boto3.client('comprehend')"
   ]
  },
  {
   "cell_type": "code",
   "execution_count": 219,
   "metadata": {},
   "outputs": [],
   "source": [
    "sentiment = comprehend.batch_detect_sentiment(LanguageCode=\"es\",TextList=df['text'].tolist())"
   ]
  },
  {
   "cell_type": "code",
   "execution_count": 223,
   "metadata": {},
   "outputs": [
    {
     "data": {
      "text/plain": [
       "{'Index': 0,\n",
       " 'Sentiment': 'POSITIVE',\n",
       " 'SentimentScore': {'Positive': 0.8761889934539795,\n",
       "  'Negative': 0.00015693411114625633,\n",
       "  'Neutral': 0.12316233664751053,\n",
       "  'Mixed': 0.000491808052174747}}"
      ]
     },
     "execution_count": 223,
     "metadata": {},
     "output_type": "execute_result"
    }
   ],
   "source": [
    "sentiment['ResultList'][0]"
   ]
  },
  {
   "cell_type": "code",
   "execution_count": 224,
   "metadata": {},
   "outputs": [],
   "source": [
    "sentimentList = [result['Sentiment'] for result in sentiment['ResultList']]\n",
    "SentimentScorePositive = [result['SentimentScore']['Positive'] for result in sentiment['ResultList']]\n",
    "SentimentScoreNegative = [result['SentimentScore']['Negative'] for result in sentiment['ResultList']]"
   ]
  },
  {
   "cell_type": "code",
   "execution_count": 228,
   "metadata": {},
   "outputs": [],
   "source": [
    "df[\"Sentiment\"] = sentimentList\n",
    "df[\"SentimentScorePositive\"] = SentimentScorePositive\n",
    "df[\"SentimentScoreNegative\"] = SentimentScoreNegative"
   ]
  },
  {
   "cell_type": "code",
   "execution_count": 229,
   "metadata": {},
   "outputs": [
    {
     "data": {
      "text/html": [
       "<div>\n",
       "<style scoped>\n",
       "    .dataframe tbody tr th:only-of-type {\n",
       "        vertical-align: middle;\n",
       "    }\n",
       "\n",
       "    .dataframe tbody tr th {\n",
       "        vertical-align: top;\n",
       "    }\n",
       "\n",
       "    .dataframe thead th {\n",
       "        text-align: right;\n",
       "    }\n",
       "</style>\n",
       "<table border=\"1\" class=\"dataframe\">\n",
       "  <thead>\n",
       "    <tr style=\"text-align: right;\">\n",
       "      <th></th>\n",
       "      <th>created_at</th>\n",
       "      <th>id</th>\n",
       "      <th>id_str</th>\n",
       "      <th>text</th>\n",
       "      <th>truncated</th>\n",
       "      <th>entities</th>\n",
       "      <th>metadata</th>\n",
       "      <th>source</th>\n",
       "      <th>in_reply_to_status_id</th>\n",
       "      <th>in_reply_to_status_id_str</th>\n",
       "      <th>...</th>\n",
       "      <th>retweet_count</th>\n",
       "      <th>favorite_count</th>\n",
       "      <th>favorited</th>\n",
       "      <th>retweeted</th>\n",
       "      <th>lang</th>\n",
       "      <th>possibly_sensitive</th>\n",
       "      <th>extended_entities</th>\n",
       "      <th>Sentiment</th>\n",
       "      <th>SentimentScorePositive</th>\n",
       "      <th>SentimentScoreNegative</th>\n",
       "    </tr>\n",
       "  </thead>\n",
       "  <tbody>\n",
       "    <tr>\n",
       "      <th>0</th>\n",
       "      <td>2021-08-27 03:49:42+00:00</td>\n",
       "      <td>1431101591088734211</td>\n",
       "      <td>1431101591088734208</td>\n",
       "      <td>RT @MonicaOspinaL: Gracias @awscloud por este ...</td>\n",
       "      <td>False</td>\n",
       "      <td>{'hashtags': [], 'symbols': [], 'user_mentions...</td>\n",
       "      <td>{'iso_language_code': 'es', 'result_type': 're...</td>\n",
       "      <td>&lt;a href=\"https://mobile.twitter.com\" rel=\"nofo...</td>\n",
       "      <td>NaN</td>\n",
       "      <td>NaN</td>\n",
       "      <td>...</td>\n",
       "      <td>2</td>\n",
       "      <td>0</td>\n",
       "      <td>False</td>\n",
       "      <td>False</td>\n",
       "      <td>es</td>\n",
       "      <td>NaN</td>\n",
       "      <td>NaN</td>\n",
       "      <td>POSITIVE</td>\n",
       "      <td>0.876189</td>\n",
       "      <td>0.000157</td>\n",
       "    </tr>\n",
       "    <tr>\n",
       "      <th>1</th>\n",
       "      <td>2021-08-26 22:30:06+00:00</td>\n",
       "      <td>1431021160188157952</td>\n",
       "      <td>1431021160188157952</td>\n",
       "      <td>RT @AleRam0923: #java #springboot #microservic...</td>\n",
       "      <td>False</td>\n",
       "      <td>{'hashtags': [{'text': 'java', 'indices': [16,...</td>\n",
       "      <td>{'iso_language_code': 'es', 'result_type': 're...</td>\n",
       "      <td>&lt;a href=\"https://help.twitter.com/en/using-twi...</td>\n",
       "      <td>NaN</td>\n",
       "      <td>NaN</td>\n",
       "      <td>...</td>\n",
       "      <td>3</td>\n",
       "      <td>0</td>\n",
       "      <td>False</td>\n",
       "      <td>False</td>\n",
       "      <td>es</td>\n",
       "      <td>NaN</td>\n",
       "      <td>NaN</td>\n",
       "      <td>NEUTRAL</td>\n",
       "      <td>0.004021</td>\n",
       "      <td>0.001144</td>\n",
       "    </tr>\n",
       "    <tr>\n",
       "      <th>2</th>\n",
       "      <td>2021-08-26 22:13:32+00:00</td>\n",
       "      <td>1431016993600249866</td>\n",
       "      <td>1431016993600249856</td>\n",
       "      <td>RT @AleRam0923: #java #springboot #microservic...</td>\n",
       "      <td>False</td>\n",
       "      <td>{'hashtags': [{'text': 'java', 'indices': [16,...</td>\n",
       "      <td>{'iso_language_code': 'es', 'result_type': 're...</td>\n",
       "      <td>&lt;a href=\"https://script.google.com\" rel=\"nofol...</td>\n",
       "      <td>NaN</td>\n",
       "      <td>NaN</td>\n",
       "      <td>...</td>\n",
       "      <td>3</td>\n",
       "      <td>0</td>\n",
       "      <td>False</td>\n",
       "      <td>False</td>\n",
       "      <td>es</td>\n",
       "      <td>NaN</td>\n",
       "      <td>NaN</td>\n",
       "      <td>NEUTRAL</td>\n",
       "      <td>0.004021</td>\n",
       "      <td>0.001144</td>\n",
       "    </tr>\n",
       "    <tr>\n",
       "      <th>3</th>\n",
       "      <td>2021-08-26 21:47:24+00:00</td>\n",
       "      <td>1431010416633683973</td>\n",
       "      <td>1431010416633683968</td>\n",
       "      <td>RT @AleRam0923: #java #springboot #microservic...</td>\n",
       "      <td>False</td>\n",
       "      <td>{'hashtags': [{'text': 'java', 'indices': [16,...</td>\n",
       "      <td>{'iso_language_code': 'es', 'result_type': 're...</td>\n",
       "      <td>&lt;a href=\"https://help.twitter.com/en/using-twi...</td>\n",
       "      <td>NaN</td>\n",
       "      <td>NaN</td>\n",
       "      <td>...</td>\n",
       "      <td>3</td>\n",
       "      <td>0</td>\n",
       "      <td>False</td>\n",
       "      <td>False</td>\n",
       "      <td>es</td>\n",
       "      <td>NaN</td>\n",
       "      <td>NaN</td>\n",
       "      <td>NEUTRAL</td>\n",
       "      <td>0.004021</td>\n",
       "      <td>0.001144</td>\n",
       "    </tr>\n",
       "    <tr>\n",
       "      <th>4</th>\n",
       "      <td>2021-08-26 21:01:08+00:00</td>\n",
       "      <td>1430998772293804038</td>\n",
       "      <td>1430998772293804032</td>\n",
       "      <td>Las organizaciones están utilizando datos para...</td>\n",
       "      <td>True</td>\n",
       "      <td>{'hashtags': [], 'symbols': [], 'user_mentions...</td>\n",
       "      <td>{'iso_language_code': 'es', 'result_type': 're...</td>\n",
       "      <td>&lt;a href=\"http://www.everyonesocial.com\" rel=\"n...</td>\n",
       "      <td>NaN</td>\n",
       "      <td>NaN</td>\n",
       "      <td>...</td>\n",
       "      <td>0</td>\n",
       "      <td>0</td>\n",
       "      <td>False</td>\n",
       "      <td>False</td>\n",
       "      <td>es</td>\n",
       "      <td>0.0</td>\n",
       "      <td>NaN</td>\n",
       "      <td>NEUTRAL</td>\n",
       "      <td>0.116296</td>\n",
       "      <td>0.002494</td>\n",
       "    </tr>\n",
       "  </tbody>\n",
       "</table>\n",
       "<p>5 rows × 30 columns</p>\n",
       "</div>"
      ],
      "text/plain": [
       "                 created_at                   id               id_str  \\\n",
       "0 2021-08-27 03:49:42+00:00  1431101591088734211  1431101591088734208   \n",
       "1 2021-08-26 22:30:06+00:00  1431021160188157952  1431021160188157952   \n",
       "2 2021-08-26 22:13:32+00:00  1431016993600249866  1431016993600249856   \n",
       "3 2021-08-26 21:47:24+00:00  1431010416633683973  1431010416633683968   \n",
       "4 2021-08-26 21:01:08+00:00  1430998772293804038  1430998772293804032   \n",
       "\n",
       "                                                text  truncated  \\\n",
       "0  RT @MonicaOspinaL: Gracias @awscloud por este ...      False   \n",
       "1  RT @AleRam0923: #java #springboot #microservic...      False   \n",
       "2  RT @AleRam0923: #java #springboot #microservic...      False   \n",
       "3  RT @AleRam0923: #java #springboot #microservic...      False   \n",
       "4  Las organizaciones están utilizando datos para...       True   \n",
       "\n",
       "                                            entities  \\\n",
       "0  {'hashtags': [], 'symbols': [], 'user_mentions...   \n",
       "1  {'hashtags': [{'text': 'java', 'indices': [16,...   \n",
       "2  {'hashtags': [{'text': 'java', 'indices': [16,...   \n",
       "3  {'hashtags': [{'text': 'java', 'indices': [16,...   \n",
       "4  {'hashtags': [], 'symbols': [], 'user_mentions...   \n",
       "\n",
       "                                            metadata  \\\n",
       "0  {'iso_language_code': 'es', 'result_type': 're...   \n",
       "1  {'iso_language_code': 'es', 'result_type': 're...   \n",
       "2  {'iso_language_code': 'es', 'result_type': 're...   \n",
       "3  {'iso_language_code': 'es', 'result_type': 're...   \n",
       "4  {'iso_language_code': 'es', 'result_type': 're...   \n",
       "\n",
       "                                              source  in_reply_to_status_id  \\\n",
       "0  <a href=\"https://mobile.twitter.com\" rel=\"nofo...                    NaN   \n",
       "1  <a href=\"https://help.twitter.com/en/using-twi...                    NaN   \n",
       "2  <a href=\"https://script.google.com\" rel=\"nofol...                    NaN   \n",
       "3  <a href=\"https://help.twitter.com/en/using-twi...                    NaN   \n",
       "4  <a href=\"http://www.everyonesocial.com\" rel=\"n...                    NaN   \n",
       "\n",
       "   in_reply_to_status_id_str  ...  retweet_count  favorite_count  favorited  \\\n",
       "0                        NaN  ...              2               0      False   \n",
       "1                        NaN  ...              3               0      False   \n",
       "2                        NaN  ...              3               0      False   \n",
       "3                        NaN  ...              3               0      False   \n",
       "4                        NaN  ...              0               0      False   \n",
       "\n",
       "  retweeted  lang  possibly_sensitive  extended_entities  Sentiment  \\\n",
       "0     False    es                 NaN                NaN   POSITIVE   \n",
       "1     False    es                 NaN                NaN    NEUTRAL   \n",
       "2     False    es                 NaN                NaN    NEUTRAL   \n",
       "3     False    es                 NaN                NaN    NEUTRAL   \n",
       "4     False    es                 0.0                NaN    NEUTRAL   \n",
       "\n",
       "  SentimentScorePositive  SentimentScoreNegative  \n",
       "0               0.876189                0.000157  \n",
       "1               0.004021                0.001144  \n",
       "2               0.004021                0.001144  \n",
       "3               0.004021                0.001144  \n",
       "4               0.116296                0.002494  \n",
       "\n",
       "[5 rows x 30 columns]"
      ]
     },
     "execution_count": 229,
     "metadata": {},
     "output_type": "execute_result"
    }
   ],
   "source": [
    "df.head()"
   ]
  },
  {
   "cell_type": "code",
   "execution_count": 240,
   "metadata": {},
   "outputs": [
    {
     "data": {
      "text/plain": [
       "<matplotlib.axes._subplots.AxesSubplot at 0x7f6edce36dd0>"
      ]
     },
     "execution_count": 240,
     "metadata": {},
     "output_type": "execute_result"
    },
    {
     "data": {
      "image/png": "[encoded data removed]",
      "text/plain": [
       "<Figure size 432x288 with 1 Axes>"
      ]
     },
     "metadata": {
      "needs_background": "light"
     },
     "output_type": "display_data"
    }
   ],
   "source": [
    "df['Sentiment'].hist()"
   ]
  },
  {
   "cell_type": "code",
   "execution_count": 244,
   "metadata": {},
   "outputs": [
    {
     "data": {
      "text/plain": [
       "<matplotlib.axes._subplots.AxesSubplot at 0x7f6edaf45f90>"
      ]
     },
     "execution_count": 244,
     "metadata": {},
     "output_type": "execute_result"
    },
    {
     "data": {
      "image/png": "[encoded data removed]",
      "text/plain": [
       "<Figure size 432x288 with 1 Axes>"
      ]
     },
     "metadata": {
      "needs_background": "light"
     },
     "output_type": "display_data"
    }
   ],
   "source": [
    "df[\"retweet_count\"].hist()"
   ]
  },
  {
   "cell_type": "code",
   "execution_count": 245,
   "metadata": {},
   "outputs": [
    {
     "data": {
      "text/plain": [
       "<matplotlib.axes._subplots.AxesSubplot at 0x7f6edaee2f10>"
      ]
     },
     "execution_count": 245,
     "metadata": {},
     "output_type": "execute_result"
    },
    {
     "data": {
      "image/png": "[encoded data removed]",
      "text/plain": [
       "<Figure size 432x288 with 1 Axes>"
      ]
     },
     "metadata": {
      "needs_background": "light"
     },
     "output_type": "display_data"
    }
   ],
   "source": [
    "df[\"SentimentScorePositive\"].hist()"
   ]
  },
  {
   "cell_type": "code",
   "execution_count": 246,
   "metadata": {},
   "outputs": [
    {
     "data": {
      "text/plain": [
       "<matplotlib.axes._subplots.AxesSubplot at 0x7f6edae47a10>"
      ]
     },
     "execution_count": 246,
     "metadata": {},
     "output_type": "execute_result"
    },
    {
     "data": {
      "image/png": "[encoded data removed]",
      "text/plain": [
       "<Figure size 432x288 with 1 Axes>"
      ]
     },
     "metadata": {
      "needs_background": "light"
     },
     "output_type": "display_data"
    }
   ],
   "source": [
    "df[\"SentimentScoreNegative\"].hist()"
   ]
  },
  {
   "cell_type": "markdown",
   "metadata": {},
   "source": [
    "## Análisis de entidades"
   ]
  },
  {
   "cell_type": "code",
   "execution_count": 248,
   "metadata": {},
   "outputs": [],
   "source": [
    "entities = comprehend.batch_detect_entities(LanguageCode=\"es\",TextList=df['text'].tolist())"
   ]
  },
  {
   "cell_type": "code",
   "execution_count": 251,
   "metadata": {},
   "outputs": [
    {
     "data": {
      "text/plain": [
       "{'Index': 0,\n",
       " 'Entities': [{'Score': 0.9985061287879944,\n",
       "   'Type': 'PERSON',\n",
       "   'Text': 'MonicaOspinaL',\n",
       "   'BeginOffset': 4,\n",
       "   'EndOffset': 17},\n",
       "  {'Score': 0.6213843822479248,\n",
       "   'Type': 'ORGANIZATION',\n",
       "   'Text': 'awscloud',\n",
       "   'BeginOffset': 28,\n",
       "   'EndOffset': 36},\n",
       "  {'Score': 0.5186120271682739,\n",
       "   'Type': 'LOCATION',\n",
       "   'Text': 'Colombia',\n",
       "   'BeginOffset': 102,\n",
       "   'EndOffset': 110}]}"
      ]
     },
     "execution_count": 251,
     "metadata": {},
     "output_type": "execute_result"
    }
   ],
   "source": [
    "entities['ResultList'][0]"
   ]
  },
  {
   "cell_type": "code",
   "execution_count": 256,
   "metadata": {},
   "outputs": [],
   "source": [
    "entities = [result['Entities'] for result in entities['ResultList']]"
   ]
  },
  {
   "cell_type": "code",
   "execution_count": 269,
   "metadata": {},
   "outputs": [],
   "source": [
    "tweetentitiesList = []\n",
    "for tweetentities in entities:\n",
    "    text = ''\n",
    "    for val in tweetentities:\n",
    "        text += val['Type']+':'+val['Text']+\",\"\n",
    "    tweetentitiesList.append(text)"
   ]
  },
  {
   "cell_type": "code",
   "execution_count": 270,
   "metadata": {},
   "outputs": [
    {
     "data": {
      "text/plain": [
       "['PERSON:MonicaOspinaL,ORGANIZATION:awscloud,LOCATION:Colombia,',\n",
       " 'PERSON:AleRam0923,TITLE:#java,TITLE:#awscloud,TITLE:#angular,TITLE:#ios,TITLE:#android,TITLE:#androidsdk,',\n",
       " 'PERSON:AleRam0923,TITLE:#java,TITLE:#awscloud,TITLE:#angular,TITLE:#ios,TITLE:#android,TITLE:#androidsdk,',\n",
       " 'PERSON:AleRam0923,TITLE:#java,TITLE:#awscloud,TITLE:#angular,TITLE:#ios,TITLE:#android,TITLE:#androidsdk,',\n",
       " 'OTHER:https://t.co/6YXNP4O2YO,',\n",
       " 'OTHER:https://t.co/rXjZ4X8bGY,',\n",
       " 'TITLE:#java,TITLE:#awscloud,TITLE:#angular,TITLE:#ios,TITLE:#android,TITLE:#xcode,TITLE:#androidsdk,OTHER:https://t.co/s0n4SJcDna,',\n",
       " 'ORGANIZATION:SanAbarc,QUANTITY:5 líderes,',\n",
       " 'PERSON:SanAbarc,',\n",
       " 'PERSON:SanAbarc,OTHER:AWS,',\n",
       " 'ORGANIZATION:SanAbarc,QUANTITY:primera aplicación web,TITLE:AWS,ORGANIZATION:Twitch,TITLE:Let’s,',\n",
       " 'PERSON:SanAbarc,TITLE:AWS Data Analytics,DATE:27A…,',\n",
       " 'PERSON:Hilary Foster,ORGANIZATION:CEPREDENAC,OTHER:https://t.co/8xMV56RpXK,',\n",
       " 'PERSON:POTUS,PERSON:Joe Biden,OTHER:https://t.co/RWHuSc8iVF,',\n",
       " 'PERSON:javichur,PERSON:supercoco9,PERSON:awsvalenciaes,ORGANIZATION:awscloud_es,PERSON:supercoco9,TITLE:DeepRacer,']"
      ]
     },
     "execution_count": 270,
     "metadata": {},
     "output_type": "execute_result"
    }
   ],
   "source": [
    "tweetentitiesList"
   ]
  },
  {
   "cell_type": "code",
   "execution_count": 273,
   "metadata": {},
   "outputs": [],
   "source": [
    "df['entities'] = tweetentitiesList"
   ]
  },
  {
   "cell_type": "code",
   "execution_count": 274,
   "metadata": {},
   "outputs": [
    {
     "data": {
      "text/html": [
       "<div>\n",
       "<style scoped>\n",
       "    .dataframe tbody tr th:only-of-type {\n",
       "        vertical-align: middle;\n",
       "    }\n",
       "\n",
       "    .dataframe tbody tr th {\n",
       "        vertical-align: top;\n",
       "    }\n",
       "\n",
       "    .dataframe thead th {\n",
       "        text-align: right;\n",
       "    }\n",
       "</style>\n",
       "<table border=\"1\" class=\"dataframe\">\n",
       "  <thead>\n",
       "    <tr style=\"text-align: right;\">\n",
       "      <th></th>\n",
       "      <th>created_at</th>\n",
       "      <th>id</th>\n",
       "      <th>id_str</th>\n",
       "      <th>text</th>\n",
       "      <th>truncated</th>\n",
       "      <th>entities</th>\n",
       "      <th>metadata</th>\n",
       "      <th>source</th>\n",
       "      <th>in_reply_to_status_id</th>\n",
       "      <th>in_reply_to_status_id_str</th>\n",
       "      <th>...</th>\n",
       "      <th>retweet_count</th>\n",
       "      <th>favorite_count</th>\n",
       "      <th>favorited</th>\n",
       "      <th>retweeted</th>\n",
       "      <th>lang</th>\n",
       "      <th>possibly_sensitive</th>\n",
       "      <th>extended_entities</th>\n",
       "      <th>Sentiment</th>\n",
       "      <th>SentimentScorePositive</th>\n",
       "      <th>SentimentScoreNegative</th>\n",
       "    </tr>\n",
       "  </thead>\n",
       "  <tbody>\n",
       "    <tr>\n",
       "      <th>0</th>\n",
       "      <td>2021-08-27 03:49:42+00:00</td>\n",
       "      <td>1431101591088734211</td>\n",
       "      <td>1431101591088734208</td>\n",
       "      <td>RT @MonicaOspinaL: Gracias @awscloud por este ...</td>\n",
       "      <td>False</td>\n",
       "      <td>PERSON:MonicaOspinaL,ORGANIZATION:awscloud,LOC...</td>\n",
       "      <td>{'iso_language_code': 'es', 'result_type': 're...</td>\n",
       "      <td>&lt;a href=\"https://mobile.twitter.com\" rel=\"nofo...</td>\n",
       "      <td>NaN</td>\n",
       "      <td>NaN</td>\n",
       "      <td>...</td>\n",
       "      <td>2</td>\n",
       "      <td>0</td>\n",
       "      <td>False</td>\n",
       "      <td>False</td>\n",
       "      <td>es</td>\n",
       "      <td>NaN</td>\n",
       "      <td>NaN</td>\n",
       "      <td>POSITIVE</td>\n",
       "      <td>0.876189</td>\n",
       "      <td>0.000157</td>\n",
       "    </tr>\n",
       "    <tr>\n",
       "      <th>1</th>\n",
       "      <td>2021-08-26 22:30:06+00:00</td>\n",
       "      <td>1431021160188157952</td>\n",
       "      <td>1431021160188157952</td>\n",
       "      <td>RT @AleRam0923: #java #springboot #microservic...</td>\n",
       "      <td>False</td>\n",
       "      <td>PERSON:AleRam0923,TITLE:#java,TITLE:#awscloud,...</td>\n",
       "      <td>{'iso_language_code': 'es', 'result_type': 're...</td>\n",
       "      <td>&lt;a href=\"https://help.twitter.com/en/using-twi...</td>\n",
       "      <td>NaN</td>\n",
       "      <td>NaN</td>\n",
       "      <td>...</td>\n",
       "      <td>3</td>\n",
       "      <td>0</td>\n",
       "      <td>False</td>\n",
       "      <td>False</td>\n",
       "      <td>es</td>\n",
       "      <td>NaN</td>\n",
       "      <td>NaN</td>\n",
       "      <td>NEUTRAL</td>\n",
       "      <td>0.004021</td>\n",
       "      <td>0.001144</td>\n",
       "    </tr>\n",
       "    <tr>\n",
       "      <th>2</th>\n",
       "      <td>2021-08-26 22:13:32+00:00</td>\n",
       "      <td>1431016993600249866</td>\n",
       "      <td>1431016993600249856</td>\n",
       "      <td>RT @AleRam0923: #java #springboot #microservic...</td>\n",
       "      <td>False</td>\n",
       "      <td>PERSON:AleRam0923,TITLE:#java,TITLE:#awscloud,...</td>\n",
       "      <td>{'iso_language_code': 'es', 'result_type': 're...</td>\n",
       "      <td>&lt;a href=\"https://script.google.com\" rel=\"nofol...</td>\n",
       "      <td>NaN</td>\n",
       "      <td>NaN</td>\n",
       "      <td>...</td>\n",
       "      <td>3</td>\n",
       "      <td>0</td>\n",
       "      <td>False</td>\n",
       "      <td>False</td>\n",
       "      <td>es</td>\n",
       "      <td>NaN</td>\n",
       "      <td>NaN</td>\n",
       "      <td>NEUTRAL</td>\n",
       "      <td>0.004021</td>\n",
       "      <td>0.001144</td>\n",
       "    </tr>\n",
       "    <tr>\n",
       "      <th>3</th>\n",
       "      <td>2021-08-26 21:47:24+00:00</td>\n",
       "      <td>1431010416633683973</td>\n",
       "      <td>1431010416633683968</td>\n",
       "      <td>RT @AleRam0923: #java #springboot #microservic...</td>\n",
       "      <td>False</td>\n",
       "      <td>PERSON:AleRam0923,TITLE:#java,TITLE:#awscloud,...</td>\n",
       "      <td>{'iso_language_code': 'es', 'result_type': 're...</td>\n",
       "      <td>&lt;a href=\"https://help.twitter.com/en/using-twi...</td>\n",
       "      <td>NaN</td>\n",
       "      <td>NaN</td>\n",
       "      <td>...</td>\n",
       "      <td>3</td>\n",
       "      <td>0</td>\n",
       "      <td>False</td>\n",
       "      <td>False</td>\n",
       "      <td>es</td>\n",
       "      <td>NaN</td>\n",
       "      <td>NaN</td>\n",
       "      <td>NEUTRAL</td>\n",
       "      <td>0.004021</td>\n",
       "      <td>0.001144</td>\n",
       "    </tr>\n",
       "    <tr>\n",
       "      <th>4</th>\n",
       "      <td>2021-08-26 21:01:08+00:00</td>\n",
       "      <td>1430998772293804038</td>\n",
       "      <td>1430998772293804032</td>\n",
       "      <td>Las organizaciones están utilizando datos para...</td>\n",
       "      <td>True</td>\n",
       "      <td>OTHER:https://t.co/6YXNP4O2YO,</td>\n",
       "      <td>{'iso_language_code': 'es', 'result_type': 're...</td>\n",
       "      <td>&lt;a href=\"http://www.everyonesocial.com\" rel=\"n...</td>\n",
       "      <td>NaN</td>\n",
       "      <td>NaN</td>\n",
       "      <td>...</td>\n",
       "      <td>0</td>\n",
       "      <td>0</td>\n",
       "      <td>False</td>\n",
       "      <td>False</td>\n",
       "      <td>es</td>\n",
       "      <td>0.0</td>\n",
       "      <td>NaN</td>\n",
       "      <td>NEUTRAL</td>\n",
       "      <td>0.116296</td>\n",
       "      <td>0.002494</td>\n",
       "    </tr>\n",
       "  </tbody>\n",
       "</table>\n",
       "<p>5 rows × 30 columns</p>\n",
       "</div>"
      ],
      "text/plain": [
       "                 created_at                   id               id_str  \\\n",
       "0 2021-08-27 03:49:42+00:00  1431101591088734211  1431101591088734208   \n",
       "1 2021-08-26 22:30:06+00:00  1431021160188157952  1431021160188157952   \n",
       "2 2021-08-26 22:13:32+00:00  1431016993600249866  1431016993600249856   \n",
       "3 2021-08-26 21:47:24+00:00  1431010416633683973  1431010416633683968   \n",
       "4 2021-08-26 21:01:08+00:00  1430998772293804038  1430998772293804032   \n",
       "\n",
       "                                                text  truncated  \\\n",
       "0  RT @MonicaOspinaL: Gracias @awscloud por este ...      False   \n",
       "1  RT @AleRam0923: #java #springboot #microservic...      False   \n",
       "2  RT @AleRam0923: #java #springboot #microservic...      False   \n",
       "3  RT @AleRam0923: #java #springboot #microservic...      False   \n",
       "4  Las organizaciones están utilizando datos para...       True   \n",
       "\n",
       "                                            entities  \\\n",
       "0  PERSON:MonicaOspinaL,ORGANIZATION:awscloud,LOC...   \n",
       "1  PERSON:AleRam0923,TITLE:#java,TITLE:#awscloud,...   \n",
       "2  PERSON:AleRam0923,TITLE:#java,TITLE:#awscloud,...   \n",
       "3  PERSON:AleRam0923,TITLE:#java,TITLE:#awscloud,...   \n",
       "4                     OTHER:https://t.co/6YXNP4O2YO,   \n",
       "\n",
       "                                            metadata  \\\n",
       "0  {'iso_language_code': 'es', 'result_type': 're...   \n",
       "1  {'iso_language_code': 'es', 'result_type': 're...   \n",
       "2  {'iso_language_code': 'es', 'result_type': 're...   \n",
       "3  {'iso_language_code': 'es', 'result_type': 're...   \n",
       "4  {'iso_language_code': 'es', 'result_type': 're...   \n",
       "\n",
       "                                              source  in_reply_to_status_id  \\\n",
       "0  <a href=\"https://mobile.twitter.com\" rel=\"nofo...                    NaN   \n",
       "1  <a href=\"https://help.twitter.com/en/using-twi...                    NaN   \n",
       "2  <a href=\"https://script.google.com\" rel=\"nofol...                    NaN   \n",
       "3  <a href=\"https://help.twitter.com/en/using-twi...                    NaN   \n",
       "4  <a href=\"http://www.everyonesocial.com\" rel=\"n...                    NaN   \n",
       "\n",
       "   in_reply_to_status_id_str  ...  retweet_count  favorite_count  favorited  \\\n",
       "0                        NaN  ...              2               0      False   \n",
       "1                        NaN  ...              3               0      False   \n",
       "2                        NaN  ...              3               0      False   \n",
       "3                        NaN  ...              3               0      False   \n",
       "4                        NaN  ...              0               0      False   \n",
       "\n",
       "  retweeted  lang  possibly_sensitive  extended_entities  Sentiment  \\\n",
       "0     False    es                 NaN                NaN   POSITIVE   \n",
       "1     False    es                 NaN                NaN    NEUTRAL   \n",
       "2     False    es                 NaN                NaN    NEUTRAL   \n",
       "3     False    es                 NaN                NaN    NEUTRAL   \n",
       "4     False    es                 0.0                NaN    NEUTRAL   \n",
       "\n",
       "  SentimentScorePositive  SentimentScoreNegative  \n",
       "0               0.876189                0.000157  \n",
       "1               0.004021                0.001144  \n",
       "2               0.004021                0.001144  \n",
       "3               0.004021                0.001144  \n",
       "4               0.116296                0.002494  \n",
       "\n",
       "[5 rows x 30 columns]"
      ]
     },
     "execution_count": 274,
     "metadata": {},
     "output_type": "execute_result"
    }
   ],
   "source": [
    "df.head()"
   ]
  },
  {
   "cell_type": "code",
   "execution_count": null,
   "metadata": {},
   "outputs": [],
   "source": []
  }
 ],
 "metadata": {
  "instance_type": "ml.t3.medium",
  "kernelspec": {
   "display_name": "Python 3 (Data Science)",
   "language": "python",
   "name": "python3__SAGEMAKER_INTERNAL__arn:aws:sagemaker:us-east-1:081325390199:image/datascience-1.0"
  },
  "language_info": {
   "codemirror_mode": {
    "name": "ipython",
    "version": 3
   },
   "file_extension": ".py",
   "mimetype": "text/x-python",
   "name": "python",
   "nbconvert_exporter": "python",
   "pygments_lexer": "ipython3",
   "version": "3.7.10"
  }
 },
 "nbformat": 4,
 "nbformat_minor": 4
}
