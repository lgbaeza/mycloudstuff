{
 "cells": [
  {
   "cell_type": "markdown",
   "id": "seven-nebraska",
   "metadata": {},
   "source": [
    "# Working with data on PySpark"
   ]
  },
  {
   "cell_type": "markdown",
   "id": "descending-throw",
   "metadata": {},
   "source": [
    "1. [Spark DataFrames](#section1)\n",
    "2. [Joining two DataFrames](#section2)\n",
    "3. [Using SQL to query DataFrames](#section3)\n",
    "4. [Writing out results](#section4)\n",
    "5. [Data bucketing and partitioning](#section5)"
   ]
  },
  {
   "cell_type": "markdown",
   "id": "norman-fifth",
   "metadata": {},
   "source": [
    "From SparkSQL doccumentation: https://spark.apache.org/docs/2.3.0/sql-programming-guide.html"
   ]
  },
  {
   "cell_type": "code",
   "execution_count": 1,
   "id": "square-analyst",
   "metadata": {},
   "outputs": [
    {
     "data": {
      "application/vnd.jupyter.widget-view+json": {
       "model_id": "c4e80f943ab24720a15b4fc52202a9dc",
       "version_major": 2,
       "version_minor": 0
      },
      "text/plain": [
       "VBox()"
      ]
     },
     "metadata": {},
     "output_type": "display_data"
    },
    {
     "name": "stdout",
     "output_type": "stream",
     "text": [
      "Starting Spark application\n"
     ]
    },
    {
     "data": {
      "text/html": [
       "<table>\n",
       "<tr><th>ID</th><th>YARN Application ID</th><th>Kind</th><th>State</th><th>Spark UI</th><th>Driver log</th><th>Current session?</th></tr><tr><td>24</td><td>application_1616621397322_0025</td><td>pyspark</td><td>idle</td><td><a target=\"_blank\" href=\"http://ip-172-31-22-157.us-east-2.compute.internal:20888/proxy/application_1616621397322_0025/\">Link</a></td><td><a target=\"_blank\" href=\"http://ip-172-31-22-157.us-east-2.compute.internal:8042/node/containerlogs/container_1616621397322_0025_01_000001/livy\">Link</a></td><td>✔</td></tr></table>"
      ],
      "text/plain": [
       "<IPython.core.display.HTML object>"
      ]
     },
     "metadata": {},
     "output_type": "display_data"
    },
    {
     "data": {
      "application/vnd.jupyter.widget-view+json": {
       "model_id": "",
       "version_major": 2,
       "version_minor": 0
      },
      "text/plain": [
       "FloatProgress(value=0.0, bar_style='info', description='Progress:', layout=Layout(height='25px', width='50%'),…"
      ]
     },
     "metadata": {},
     "output_type": "display_data"
    },
    {
     "name": "stdout",
     "output_type": "stream",
     "text": [
      "SparkSession available as 'spark'.\n"
     ]
    },
    {
     "data": {
      "application/vnd.jupyter.widget-view+json": {
       "model_id": "",
       "version_major": 2,
       "version_minor": 0
      },
      "text/plain": [
       "FloatProgress(value=0.0, bar_style='info', description='Progress:', layout=Layout(height='25px', width='50%'),…"
      ]
     },
     "metadata": {},
     "output_type": "display_data"
    }
   ],
   "source": [
    "from pyspark.sql.functions import * \n",
    "from pyspark.sql.types import *\n",
    "\n",
    "S3_BUCKETNAME = ''\n",
    "S3_PREFIX = 'pysparklab'"
   ]
  },
  {
   "cell_type": "markdown",
   "id": "nonprofit-textbook",
   "metadata": {},
   "source": [
    "<a id=\"section1\"></a>\n",
    "## 1. Working with Spark DataFrames\n",
    "A DataFrame is a <i>Dataset</i> organized into named columns. It is conceptually equivalent to a table in a relational database or a data frame in R/Python, but with richer optimizations under the hood."
   ]
  },
  {
   "cell_type": "markdown",
   "id": "original-covering",
   "metadata": {},
   "source": [
    "DataFrames can be constructed from a wide array of sources such as: structured data files, tables in Hive, external databases, or existing RDDs. The DataFrame API is available in Scala, Java, Python, and R.\n",
    "\n",
    "In the simplest form, the default data source (parquet unless otherwise configured by spark.sql.sources.default) will be used for all operations."
   ]
  },
  {
   "cell_type": "markdown",
   "id": "sunset-involvement",
   "metadata": {},
   "source": [
    "### 1.1 Create a DataFrame from a file"
   ]
  },
  {
   "cell_type": "code",
   "execution_count": 2,
   "id": "saving-bargain",
   "metadata": {},
   "outputs": [
    {
     "data": {
      "application/vnd.jupyter.widget-view+json": {
       "model_id": "f3032377a18c4a5f914a0131e1191dcf",
       "version_major": 2,
       "version_minor": 0
      },
      "text/plain": [
       "VBox()"
      ]
     },
     "metadata": {},
     "output_type": "display_data"
    },
    {
     "data": {
      "application/vnd.jupyter.widget-view+json": {
       "model_id": "",
       "version_major": 2,
       "version_minor": 0
      },
      "text/plain": [
       "FloatProgress(value=0.0, bar_style='info', description='Progress:', layout=Layout(height='25px', width='50%'),…"
      ]
     },
     "metadata": {},
     "output_type": "display_data"
    },
    {
     "name": "stdout",
     "output_type": "stream",
     "text": [
      "<class 'pyspark.sql.dataframe.DataFrame'>"
     ]
    }
   ],
   "source": [
    "path = \"s3://{}/{}/users.parquet\".format(S3_BUCKETNAME,S3_PREFIX)\n",
    "df = spark.read.load(path)\n",
    "type(df)"
   ]
  },
  {
   "cell_type": "markdown",
   "id": "dense-buyer",
   "metadata": {},
   "source": [
    "<br><br>\n",
    "### 1.2 View the DataFrame"
   ]
  },
  {
   "cell_type": "code",
   "execution_count": 3,
   "id": "collect-dakota",
   "metadata": {},
   "outputs": [
    {
     "data": {
      "application/vnd.jupyter.widget-view+json": {
       "model_id": "f60c612c59084035a461ca708f506edb",
       "version_major": 2,
       "version_minor": 0
      },
      "text/plain": [
       "VBox()"
      ]
     },
     "metadata": {},
     "output_type": "display_data"
    },
    {
     "data": {
      "application/vnd.jupyter.widget-view+json": {
       "model_id": "",
       "version_major": 2,
       "version_minor": 0
      },
      "text/plain": [
       "FloatProgress(value=0.0, bar_style='info', description='Progress:', layout=Layout(height='25px', width='50%'),…"
      ]
     },
     "metadata": {},
     "output_type": "display_data"
    },
    {
     "name": "stdout",
     "output_type": "stream",
     "text": [
      "+------+--------------+----------------+\n",
      "|  name|favorite_color|favorite_numbers|\n",
      "+------+--------------+----------------+\n",
      "|Alyssa|          null|  [3, 9, 15, 20]|\n",
      "|   Ben|           red|              []|\n",
      "+------+--------------+----------------+"
     ]
    }
   ],
   "source": [
    "df.show()"
   ]
  },
  {
   "cell_type": "markdown",
   "id": "optimum-scenario",
   "metadata": {},
   "source": [
    "<br><br>\n",
    "### 1.3 Use custom options with the DataFrame"
   ]
  },
  {
   "cell_type": "markdown",
   "id": "minimal-subject",
   "metadata": {},
   "source": [
    "You can also manually specify the data source that will be used along with any extra options that you would like to pass to the data source. Data sources are specified by their fully qualified name (i.e., org.apache.spark.sql.parquet), but for built-in sources you can also use their short names (json, parquet, jdbc, orc, libsvm, csv, text). \n",
    "\n",
    "Take the following nyt2.json file as an example:\n",
    "```json\n",
    "{\n",
    "    \"_id\": {\n",
    "        \"oid\": \"5b4aa4ead3089013507db18b\"\n",
    "    },\n",
    "    \"bestsellers_date\": {\n",
    "        \"date\": {\n",
    "            \"numberLong\": \"1211587200000\"\n",
    "        }\n",
    "    },\n",
    "    \"published_date\": {\n",
    "        \"date\": {\n",
    "            \"$numberLong\": \"1212883200000\"\n",
    "        }\n",
    "    },\n",
    "    \"amazon_product_url\": \"http://www.amazon.com/Odd-Hours-Dean-Koontz/dp/0553807056?tag=NYTBS-20\",\n",
    "    \"author\": \"Dean R Koontz\",\n",
    "    \"description\": \"Odd Thomas, who can communicate with the dead, confronts evil forces in a California coastal town.\",\n",
    "    \"price\": {\n",
    "        \"numberInt\": \"27\"\n",
    "    },\n",
    "    \"publisher\": \"Bantam\",\n",
    "    \"title\": \"ODD HOURS\",\n",
    "    \"rank\": {\n",
    "        \"numberInt\": \"1\"\n",
    "    },\n",
    "    \"rank_last_week\": {\n",
    "        \"numberInt\": \"0\"\n",
    "    },\n",
    "    \"weeks_on_list\": {\n",
    "        \"numberInt\": \"1\"\n",
    "    }\n",
    "}\n",
    "```"
   ]
  },
  {
   "cell_type": "markdown",
   "id": "reliable-wilson",
   "metadata": {},
   "source": [
    "Notice the <b>format=\"json\"</b> options specified on the read.load() function"
   ]
  },
  {
   "cell_type": "code",
   "execution_count": 4,
   "id": "comic-jordan",
   "metadata": {},
   "outputs": [
    {
     "data": {
      "application/vnd.jupyter.widget-view+json": {
       "model_id": "30b4480306e6438a894755012cb5b569",
       "version_major": 2,
       "version_minor": 0
      },
      "text/plain": [
       "VBox()"
      ]
     },
     "metadata": {},
     "output_type": "display_data"
    },
    {
     "data": {
      "application/vnd.jupyter.widget-view+json": {
       "model_id": "",
       "version_major": 2,
       "version_minor": 0
      },
      "text/plain": [
       "FloatProgress(value=0.0, bar_style='info', description='Progress:', layout=Layout(height='25px', width='50%'),…"
      ]
     },
     "metadata": {},
     "output_type": "display_data"
    }
   ],
   "source": [
    "path = \"s3://{}/{}/nyt2.json\".format(S3_BUCKETNAME,S3_PREFIX)\n",
    "df = spark.read.load(path, format=\"json\")"
   ]
  },
  {
   "cell_type": "markdown",
   "id": "fewer-moderator",
   "metadata": {},
   "source": [
    "<br><br>\n",
    "### 1.4 Show the DataFrame schema"
   ]
  },
  {
   "cell_type": "code",
   "execution_count": 5,
   "id": "unauthorized-mineral",
   "metadata": {},
   "outputs": [
    {
     "data": {
      "application/vnd.jupyter.widget-view+json": {
       "model_id": "e3027f047e9d41f8a81f9dbfa60cd475",
       "version_major": 2,
       "version_minor": 0
      },
      "text/plain": [
       "VBox()"
      ]
     },
     "metadata": {},
     "output_type": "display_data"
    },
    {
     "data": {
      "application/vnd.jupyter.widget-view+json": {
       "model_id": "",
       "version_major": 2,
       "version_minor": 0
      },
      "text/plain": [
       "FloatProgress(value=0.0, bar_style='info', description='Progress:', layout=Layout(height='25px', width='50%'),…"
      ]
     },
     "metadata": {},
     "output_type": "display_data"
    },
    {
     "name": "stdout",
     "output_type": "stream",
     "text": [
      "root\n",
      " |-- _id: struct (nullable = true)\n",
      " |    |-- $oid: string (nullable = true)\n",
      " |-- amazon_product_url: string (nullable = true)\n",
      " |-- author: string (nullable = true)\n",
      " |-- bestsellers_date: struct (nullable = true)\n",
      " |    |-- $date: struct (nullable = true)\n",
      " |    |    |-- $numberLong: string (nullable = true)\n",
      " |-- description: string (nullable = true)\n",
      " |-- price: struct (nullable = true)\n",
      " |    |-- $numberDouble: string (nullable = true)\n",
      " |    |-- $numberInt: string (nullable = true)\n",
      " |-- published_date: struct (nullable = true)\n",
      " |    |-- $date: struct (nullable = true)\n",
      " |    |    |-- $numberLong: string (nullable = true)\n",
      " |-- publisher: string (nullable = true)\n",
      " |-- rank: struct (nullable = true)\n",
      " |    |-- $numberInt: string (nullable = true)\n",
      " |-- rank_last_week: struct (nullable = true)\n",
      " |    |-- $numberInt: string (nullable = true)\n",
      " |-- title: string (nullable = true)\n",
      " |-- weeks_on_list: struct (nullable = true)\n",
      " |    |-- $numberInt: string (nullable = true)"
     ]
    }
   ],
   "source": [
    "df.printSchema()"
   ]
  },
  {
   "cell_type": "markdown",
   "id": "organizational-translator",
   "metadata": {},
   "source": [
    "<br><br>\n",
    "### 1.5 Access the DataFrame\n",
    "In Python it’s possible to access a DataFrame’s columns either by attribute (df.age) or by indexing (df['age']). "
   ]
  },
  {
   "cell_type": "code",
   "execution_count": 6,
   "id": "major-adrian",
   "metadata": {},
   "outputs": [
    {
     "data": {
      "application/vnd.jupyter.widget-view+json": {
       "model_id": "d3f12f3874d0444da7eebfde1ade0169",
       "version_major": 2,
       "version_minor": 0
      },
      "text/plain": [
       "VBox()"
      ]
     },
     "metadata": {},
     "output_type": "display_data"
    },
    {
     "data": {
      "application/vnd.jupyter.widget-view+json": {
       "model_id": "",
       "version_major": 2,
       "version_minor": 0
      },
      "text/plain": [
       "FloatProgress(value=0.0, bar_style='info', description='Progress:', layout=Layout(height='25px', width='50%'),…"
      ]
     },
     "metadata": {},
     "output_type": "display_data"
    },
    {
     "name": "stdout",
     "output_type": "stream",
     "text": [
      "Column<b'author'>"
     ]
    }
   ],
   "source": [
    "df.author"
   ]
  },
  {
   "cell_type": "code",
   "execution_count": 7,
   "id": "interim-penny",
   "metadata": {},
   "outputs": [
    {
     "data": {
      "application/vnd.jupyter.widget-view+json": {
       "model_id": "e981094187b54599bb439c5a65efd4e7",
       "version_major": 2,
       "version_minor": 0
      },
      "text/plain": [
       "VBox()"
      ]
     },
     "metadata": {},
     "output_type": "display_data"
    },
    {
     "data": {
      "application/vnd.jupyter.widget-view+json": {
       "model_id": "",
       "version_major": 2,
       "version_minor": 0
      },
      "text/plain": [
       "FloatProgress(value=0.0, bar_style='info', description='Progress:', layout=Layout(height='25px', width='50%'),…"
      ]
     },
     "metadata": {},
     "output_type": "display_data"
    },
    {
     "name": "stdout",
     "output_type": "stream",
     "text": [
      "Column<b'author'>"
     ]
    }
   ],
   "source": [
    "df['author']"
   ]
  },
  {
   "cell_type": "markdown",
   "id": "contemporary-westminster",
   "metadata": {},
   "source": [
    "<br><br>\n",
    "### 1.6 Using select()\n",
    "You can also select columns by using the <b>select()</b> function"
   ]
  },
  {
   "cell_type": "code",
   "execution_count": 8,
   "id": "interesting-moore",
   "metadata": {},
   "outputs": [
    {
     "data": {
      "application/vnd.jupyter.widget-view+json": {
       "model_id": "68ac4f80413f4f329fd19814c7454975",
       "version_major": 2,
       "version_minor": 0
      },
      "text/plain": [
       "VBox()"
      ]
     },
     "metadata": {},
     "output_type": "display_data"
    },
    {
     "data": {
      "application/vnd.jupyter.widget-view+json": {
       "model_id": "",
       "version_major": 2,
       "version_minor": 0
      },
      "text/plain": [
       "FloatProgress(value=0.0, bar_style='info', description='Progress:', layout=Layout(height='25px', width='50%'),…"
      ]
     },
     "metadata": {},
     "output_type": "display_data"
    },
    {
     "name": "stdout",
     "output_type": "stream",
     "text": [
      "+--------------------+--------------------+----+--------+\n",
      "|              author|               title|rank|   price|\n",
      "+--------------------+--------------------+----+--------+\n",
      "|       Dean R Koontz|           ODD HOURS| [1]|  [, 27]|\n",
      "|     Stephenie Meyer|            THE HOST| [2]|[25.99,]|\n",
      "|        Emily Giffin|LOVE THE ONE YOU'...| [3]|[24.95,]|\n",
      "|   Patricia Cornwell|           THE FRONT| [4]|[22.95,]|\n",
      "|     Chuck Palahniuk|               SNUFF| [5]|[24.95,]|\n",
      "|James Patterson a...|SUNDAYS AT TIFFANY’S| [6]|[24.99,]|\n",
      "|       John Sandford|        PHANTOM PREY| [7]|[26.95,]|\n",
      "|       Jimmy Buffett|          SWINE NOT?| [8]|[21.99,]|\n",
      "|    Elizabeth George|     CARELESS IN RED| [9]|[27.95,]|\n",
      "|      David Baldacci|     THE WHOLE TRUTH|[10]|[26.99,]|\n",
      "+--------------------+--------------------+----+--------+\n",
      "only showing top 10 rows"
     ]
    }
   ],
   "source": [
    "df.select(\"author\", \"title\", \"rank\", \"price\").show(10)"
   ]
  },
  {
   "cell_type": "markdown",
   "id": "later-norwegian",
   "metadata": {},
   "source": [
    "<br><br>\n",
    "### 1.7 Filtering records\n",
    "\n",
    "Using <b>filter()</b> to select titles where the author is one of the list [\"John Sandford\", \"Emily Giffin\"]"
   ]
  },
  {
   "cell_type": "code",
   "execution_count": 9,
   "id": "olive-linux",
   "metadata": {},
   "outputs": [
    {
     "data": {
      "application/vnd.jupyter.widget-view+json": {
       "model_id": "cdad7265b5024839ba91155f08c32554",
       "version_major": 2,
       "version_minor": 0
      },
      "text/plain": [
       "VBox()"
      ]
     },
     "metadata": {},
     "output_type": "display_data"
    },
    {
     "data": {
      "application/vnd.jupyter.widget-view+json": {
       "model_id": "",
       "version_major": 2,
       "version_minor": 0
      },
      "text/plain": [
       "FloatProgress(value=0.0, bar_style='info', description='Progress:', layout=Layout(height='25px', width='50%'),…"
      ]
     },
     "metadata": {},
     "output_type": "display_data"
    },
    {
     "name": "stdout",
     "output_type": "stream",
     "text": [
      "+-------------+--------------------+\n",
      "|       author|               title|\n",
      "+-------------+--------------------+\n",
      "| Emily Giffin|LOVE THE ONE YOU'...|\n",
      "|John Sandford|        PHANTOM PREY|\n",
      "| Emily Giffin|LOVE THE ONE YOU'...|\n",
      "|John Sandford|        PHANTOM PREY|\n",
      "| Emily Giffin|LOVE THE ONE YOU'...|\n",
      "+-------------+--------------------+\n",
      "only showing top 5 rows"
     ]
    }
   ],
   "source": [
    "df.filter(df.author.isin(\"John Sandford\", \"Emily Giffin\")).select(\"author\", \"title\").show(5)"
   ]
  },
  {
   "cell_type": "markdown",
   "id": "electoral-anchor",
   "metadata": {},
   "source": [
    "<br><br>\n",
    "Using <b>when()</b> to find titles that contains LOVE in the name. Notice we are using a new function here called <b>col()</b> instead of using df.title"
   ]
  },
  {
   "cell_type": "code",
   "execution_count": 10,
   "id": "lyric-brighton",
   "metadata": {},
   "outputs": [
    {
     "data": {
      "application/vnd.jupyter.widget-view+json": {
       "model_id": "a35c3c596bb74b1884be1f86baf8764a",
       "version_major": 2,
       "version_minor": 0
      },
      "text/plain": [
       "VBox()"
      ]
     },
     "metadata": {},
     "output_type": "display_data"
    },
    {
     "data": {
      "application/vnd.jupyter.widget-view+json": {
       "model_id": "",
       "version_major": 2,
       "version_minor": 0
      },
      "text/plain": [
       "FloatProgress(value=0.0, bar_style='info', description='Progress:', layout=Layout(height='25px', width='50%'),…"
      ]
     },
     "metadata": {},
     "output_type": "display_data"
    },
    {
     "name": "stdout",
     "output_type": "stream",
     "text": [
      "+--------------------+--------------------------------------------+\n",
      "|               title|CASE WHEN title LIKE LOVE% THEN 1 ELSE 0 END|\n",
      "+--------------------+--------------------------------------------+\n",
      "|           ODD HOURS|                                           0|\n",
      "|            THE HOST|                                           0|\n",
      "|LOVE THE ONE YOU'...|                                           1|\n",
      "|           THE FRONT|                                           0|\n",
      "|               SNUFF|                                           0|\n",
      "|SUNDAYS AT TIFFANY’S|                                           0|\n",
      "|        PHANTOM PREY|                                           0|\n",
      "|          SWINE NOT?|                                           0|\n",
      "|     CARELESS IN RED|                                           0|\n",
      "|     THE WHOLE TRUTH|                                           0|\n",
      "+--------------------+--------------------------------------------+\n",
      "only showing top 10 rows"
     ]
    }
   ],
   "source": [
    "df.select(\"title\", when(col('title').like('LOVE%'), 1).otherwise(0)).show(10)"
   ]
  },
  {
   "cell_type": "code",
   "execution_count": 11,
   "id": "religious-patrick",
   "metadata": {},
   "outputs": [
    {
     "data": {
      "application/vnd.jupyter.widget-view+json": {
       "model_id": "a526d62c888148b18c7d82421d5310ee",
       "version_major": 2,
       "version_minor": 0
      },
      "text/plain": [
       "VBox()"
      ]
     },
     "metadata": {},
     "output_type": "display_data"
    },
    {
     "data": {
      "application/vnd.jupyter.widget-view+json": {
       "model_id": "",
       "version_major": 2,
       "version_minor": 0
      },
      "text/plain": [
       "FloatProgress(value=0.0, bar_style='info', description='Progress:', layout=Layout(height='25px', width='50%'),…"
      ]
     },
     "metadata": {},
     "output_type": "display_data"
    },
    {
     "name": "stdout",
     "output_type": "stream",
     "text": [
      "+--------------------+\n",
      "|          new_column|\n",
      "+--------------------+\n",
      "|This is a new column|\n",
      "|This is a new column|\n",
      "|This is a new column|\n",
      "|This is a new column|\n",
      "|This is a new column|\n",
      "+--------------------+\n",
      "only showing top 5 rows"
     ]
    }
   ],
   "source": [
    "df = df.withColumn('new_column', lit('This is a new column'))\n",
    "df.select(\"new_column\").show(5)"
   ]
  },
  {
   "cell_type": "markdown",
   "id": "aboriginal-dealing",
   "metadata": {},
   "source": [
    "<br><br>\n",
    "### 1.8 Managing Columns: create a new column using <b>withColumn()</b> function"
   ]
  },
  {
   "cell_type": "code",
   "execution_count": 12,
   "id": "variable-treatment",
   "metadata": {},
   "outputs": [
    {
     "data": {
      "application/vnd.jupyter.widget-view+json": {
       "model_id": "720cbbf681e94e30843f0313acce2bc5",
       "version_major": 2,
       "version_minor": 0
      },
      "text/plain": [
       "VBox()"
      ]
     },
     "metadata": {},
     "output_type": "display_data"
    },
    {
     "data": {
      "application/vnd.jupyter.widget-view+json": {
       "model_id": "",
       "version_major": 2,
       "version_minor": 0
      },
      "text/plain": [
       "FloatProgress(value=0.0, bar_style='info', description='Progress:', layout=Layout(height='25px', width='50%'),…"
      ]
     },
     "metadata": {},
     "output_type": "display_data"
    },
    {
     "name": "stdout",
     "output_type": "stream",
     "text": [
      "root\n",
      " |-- priceFloat: float (nullable = true)\n",
      " |-- price: struct (nullable = true)\n",
      " |    |-- $numberDouble: string (nullable = true)\n",
      " |    |-- $numberInt: string (nullable = true)"
     ]
    }
   ],
   "source": [
    "df = df.withColumn('priceFloat', df.price['$numberDouble'].cast(FloatType()))\n",
    "df.select(\"priceFloat\",\"price\").printSchema()"
   ]
  },
  {
   "cell_type": "markdown",
   "id": "comparative-reliance",
   "metadata": {},
   "source": [
    "<br><br>\n",
    "### 1.9 Group the DataFrame and calculate average"
   ]
  },
  {
   "cell_type": "code",
   "execution_count": 13,
   "id": "final-deployment",
   "metadata": {},
   "outputs": [
    {
     "data": {
      "application/vnd.jupyter.widget-view+json": {
       "model_id": "20ea59e54f4a40f99ec77f0c31025400",
       "version_major": 2,
       "version_minor": 0
      },
      "text/plain": [
       "VBox()"
      ]
     },
     "metadata": {},
     "output_type": "display_data"
    },
    {
     "data": {
      "application/vnd.jupyter.widget-view+json": {
       "model_id": "",
       "version_major": 2,
       "version_minor": 0
      },
      "text/plain": [
       "FloatProgress(value=0.0, bar_style='info', description='Progress:', layout=Layout(height='25px', width='50%'),…"
      ]
     },
     "metadata": {},
     "output_type": "display_data"
    },
    {
     "name": "stdout",
     "output_type": "stream",
     "text": [
      "+-----------------+------------------+\n",
      "|           author|   avg(priceFloat)|\n",
      "+-----------------+------------------+\n",
      "|       James Frey|26.950000762939453|\n",
      "| Elin Hilderbrand|26.444545225663617|\n",
      "|Sharon Kay Penman|28.950000762939453|\n",
      "|      Lisa Genova|              null|\n",
      "|     Will Allison|              null|\n",
      "|Patricia Cornwell|27.679730492669183|\n",
      "|    Laurie R King|              null|\n",
      "|       Tea Obreht|              null|\n",
      "|     Sarah Dunant|              null|\n",
      "|     Tim Johnston|              null|\n",
      "+-----------------+------------------+\n",
      "only showing top 10 rows"
     ]
    }
   ],
   "source": [
    "df = df.groupBy(\"author\").avg('priceFloat')\n",
    "df.show(10)"
   ]
  },
  {
   "cell_type": "markdown",
   "id": "lovely-fiber",
   "metadata": {},
   "source": [
    "<br><br>\n",
    "### 1.10 Drop null records and sort by price Descending"
   ]
  },
  {
   "cell_type": "code",
   "execution_count": 14,
   "id": "industrial-treasury",
   "metadata": {},
   "outputs": [
    {
     "data": {
      "application/vnd.jupyter.widget-view+json": {
       "model_id": "04909c880ea14c7f9ced7ce7d3ed3566",
       "version_major": 2,
       "version_minor": 0
      },
      "text/plain": [
       "VBox()"
      ]
     },
     "metadata": {},
     "output_type": "display_data"
    },
    {
     "data": {
      "application/vnd.jupyter.widget-view+json": {
       "model_id": "",
       "version_major": 2,
       "version_minor": 0
      },
      "text/plain": [
       "FloatProgress(value=0.0, bar_style='info', description='Progress:', layout=Layout(height='25px', width='50%'),…"
      ]
     },
     "metadata": {},
     "output_type": "display_data"
    },
    {
     "name": "stdout",
     "output_type": "stream",
     "text": [
      "+--------------------+------------------+\n",
      "|              author|   avg(priceFloat)|\n",
      "+--------------------+------------------+\n",
      "|Robert Jordan and...| 32.21222284105089|\n",
      "|     Haruki Murakami|              30.5|\n",
      "|           Dan Brown|29.950000762939453|\n",
      "|     Neal Stephenson|29.950000762939453|\n",
      "|    Patrick Rothfuss|29.950000762939453|\n",
      "|          Wally Lamb|29.950000762939453|\n",
      "|          Pat Conroy|29.950000762939453|\n",
      "| Stephen R Donaldson|29.950000762939453|\n",
      "|      Terry Goodkind|29.480000019073486|\n",
      "|Michael Crichton ...|28.989999771118164|\n",
      "+--------------------+------------------+\n",
      "only showing top 10 rows"
     ]
    }
   ],
   "source": [
    "df = df.na.drop().sort(col('avg(priceFloat)').desc())\n",
    "df.show(10)"
   ]
  },
  {
   "cell_type": "markdown",
   "id": "domestic-wiring",
   "metadata": {},
   "source": [
    "<br><br>\n",
    "### 1.11 DataFrame stadistics\n",
    "Count records using <b>count()</b>"
   ]
  },
  {
   "cell_type": "code",
   "execution_count": 15,
   "id": "perceived-jamaica",
   "metadata": {},
   "outputs": [
    {
     "data": {
      "application/vnd.jupyter.widget-view+json": {
       "model_id": "df732bfd975342aca2cbf98db46a9933",
       "version_major": 2,
       "version_minor": 0
      },
      "text/plain": [
       "VBox()"
      ]
     },
     "metadata": {},
     "output_type": "display_data"
    },
    {
     "data": {
      "application/vnd.jupyter.widget-view+json": {
       "model_id": "",
       "version_major": 2,
       "version_minor": 0
      },
      "text/plain": [
       "FloatProgress(value=0.0, bar_style='info', description='Progress:', layout=Layout(height='25px', width='50%'),…"
      ]
     },
     "metadata": {},
     "output_type": "display_data"
    },
    {
     "name": "stdout",
     "output_type": "stream",
     "text": [
      "324"
     ]
    }
   ],
   "source": [
    "df.count()"
   ]
  },
  {
   "cell_type": "markdown",
   "id": "paperback-brief",
   "metadata": {},
   "source": [
    "<br><br>\n",
    "Using <b>describe()</b> function"
   ]
  },
  {
   "cell_type": "code",
   "execution_count": 16,
   "id": "wrong-metadata",
   "metadata": {},
   "outputs": [
    {
     "data": {
      "application/vnd.jupyter.widget-view+json": {
       "model_id": "42c7b91220d643938e02d40f78204a8c",
       "version_major": 2,
       "version_minor": 0
      },
      "text/plain": [
       "VBox()"
      ]
     },
     "metadata": {},
     "output_type": "display_data"
    },
    {
     "data": {
      "application/vnd.jupyter.widget-view+json": {
       "model_id": "",
       "version_major": 2,
       "version_minor": 0
      },
      "text/plain": [
       "FloatProgress(value=0.0, bar_style='info', description='Progress:', layout=Layout(height='25px', width='50%'),…"
      ]
     },
     "metadata": {},
     "output_type": "display_data"
    },
    {
     "name": "stdout",
     "output_type": "stream",
     "text": [
      "+-------+--------------------+------------------+\n",
      "|summary|              author|   avg(priceFloat)|\n",
      "+-------+--------------------+------------------+\n",
      "|  count|                 324|               324|\n",
      "|   mean|                null| 26.46742033771837|\n",
      "| stddev|                null|1.5429135925252075|\n",
      "|    min|          Ace Atkins|19.987142699105398|\n",
      "|    max|edited  Charlaine...| 32.21222284105089|\n",
      "+-------+--------------------+------------------+"
     ]
    }
   ],
   "source": [
    "df.describe().show()"
   ]
  },
  {
   "cell_type": "markdown",
   "id": "still-uncertainty",
   "metadata": {},
   "source": [
    "<br><br>\n",
    "<a id=\"section2\"></a>\n",
    "## 2. Joining two DataFrames"
   ]
  },
  {
   "cell_type": "markdown",
   "id": "final-music",
   "metadata": {},
   "source": [
    "### 2.1 Read and explore the States CSV\n",
    "Notice the <b>read.option()<b> and <b>read.csv()<b> methods"
   ]
  },
  {
   "cell_type": "code",
   "execution_count": 17,
   "id": "heard-stake",
   "metadata": {},
   "outputs": [
    {
     "data": {
      "application/vnd.jupyter.widget-view+json": {
       "model_id": "311ef4e07e3f4dcbbe9e242e0b072f2a",
       "version_major": 2,
       "version_minor": 0
      },
      "text/plain": [
       "VBox()"
      ]
     },
     "metadata": {},
     "output_type": "display_data"
    },
    {
     "data": {
      "application/vnd.jupyter.widget-view+json": {
       "model_id": "",
       "version_major": 2,
       "version_minor": 0
      },
      "text/plain": [
       "FloatProgress(value=0.0, bar_style='info', description='Progress:', layout=Layout(height='25px', width='50%'),…"
      ]
     },
     "metadata": {},
     "output_type": "display_data"
    }
   ],
   "source": [
    "statesDf = spark.read.option(\"header\", \"true\").csv('s3://databrew-public-datasets-us-east-1/states.csv')"
   ]
  },
  {
   "cell_type": "code",
   "execution_count": 18,
   "id": "contrary-judge",
   "metadata": {},
   "outputs": [
    {
     "data": {
      "application/vnd.jupyter.widget-view+json": {
       "model_id": "1fa12c7514604ebf8f527cb807a43129",
       "version_major": 2,
       "version_minor": 0
      },
      "text/plain": [
       "VBox()"
      ]
     },
     "metadata": {},
     "output_type": "display_data"
    },
    {
     "data": {
      "application/vnd.jupyter.widget-view+json": {
       "model_id": "",
       "version_major": 2,
       "version_minor": 0
      },
      "text/plain": [
       "FloatProgress(value=0.0, bar_style='info', description='Progress:', layout=Layout(height='25px', width='50%'),…"
      ]
     },
     "metadata": {},
     "output_type": "display_data"
    },
    {
     "name": "stdout",
     "output_type": "stream",
     "text": [
      "root\n",
      " |-- year: string (nullable = true)\n",
      " |-- assembly_session: string (nullable = true)\n",
      " |-- state_code: string (nullable = true)\n",
      " |-- state_name: string (nullable = true)\n",
      " |-- all_votes: string (nullable = true)\n",
      " |-- yes_votes: string (nullable = true)\n",
      " |-- no_votes: string (nullable = true)\n",
      " |-- abstain: string (nullable = true)\n",
      " |-- idealpoint_estimate: string (nullable = true)\n",
      " |-- affinityscore_usa: string (nullable = true)\n",
      " |-- affinityscore_russia: string (nullable = true)\n",
      " |-- affinityscore_china: string (nullable = true)\n",
      " |-- affinityscore_india: string (nullable = true)\n",
      " |-- affinityscore_brazil: string (nullable = true)\n",
      " |-- affinityscore_israel: string (nullable = true)"
     ]
    }
   ],
   "source": [
    "statesDf.printSchema()"
   ]
  },
  {
   "cell_type": "markdown",
   "id": "grand-works",
   "metadata": {},
   "source": [
    "<br><br>\n",
    "Notice we are using <b>take()</b> instead of show(), which is used only to visualize the DataFrame. With take() you can use the output to create a new DataFrame"
   ]
  },
  {
   "cell_type": "code",
   "execution_count": 19,
   "id": "plastic-transcript",
   "metadata": {},
   "outputs": [
    {
     "data": {
      "application/vnd.jupyter.widget-view+json": {
       "model_id": "79b7719dff7a42169354cd6479352111",
       "version_major": 2,
       "version_minor": 0
      },
      "text/plain": [
       "VBox()"
      ]
     },
     "metadata": {},
     "output_type": "display_data"
    },
    {
     "data": {
      "application/vnd.jupyter.widget-view+json": {
       "model_id": "",
       "version_major": 2,
       "version_minor": 0
      },
      "text/plain": [
       "FloatProgress(value=0.0, bar_style='info', description='Progress:', layout=Layout(height='25px', width='50%'),…"
      ]
     },
     "metadata": {},
     "output_type": "display_data"
    },
    {
     "name": "stdout",
     "output_type": "stream",
     "text": [
      "[Row(year='1946', assembly_session='1', state_code='2', state_name='United States of America', all_votes='42', yes_votes='25', no_votes='15', abstain='2', idealpoint_estimate='1.7377', affinityscore_usa='1', affinityscore_russia='0.2143', affinityscore_china=None, affinityscore_india='0.4762', affinityscore_brazil='0.6429', affinityscore_israel=None)]"
     ]
    }
   ],
   "source": [
    "statesDf.take(1)"
   ]
  },
  {
   "cell_type": "code",
   "execution_count": 20,
   "id": "japanese-integral",
   "metadata": {},
   "outputs": [
    {
     "data": {
      "application/vnd.jupyter.widget-view+json": {
       "model_id": "4f56bcbfe2ba442b9ecaaa990fb0a180",
       "version_major": 2,
       "version_minor": 0
      },
      "text/plain": [
       "VBox()"
      ]
     },
     "metadata": {},
     "output_type": "display_data"
    },
    {
     "data": {
      "application/vnd.jupyter.widget-view+json": {
       "model_id": "",
       "version_major": 2,
       "version_minor": 0
      },
      "text/plain": [
       "FloatProgress(value=0.0, bar_style='info', description='Progress:', layout=Layout(height='25px', width='50%'),…"
      ]
     },
     "metadata": {},
     "output_type": "display_data"
    },
    {
     "name": "stdout",
     "output_type": "stream",
     "text": [
      "+----+----------+--------------------+---------+----------------+\n",
      "|year|state_code|          state_name|all_votes|assembly_session|\n",
      "+----+----------+--------------------+---------+----------------+\n",
      "|1946|         2|United States of ...|       42|               1|\n",
      "|1947|         2|United States of ...|       38|               2|\n",
      "|1948|         2|United States of ...|      103|               3|\n",
      "|1949|         2|United States of ...|       63|               4|\n",
      "|1950|         2|United States of ...|       53|               5|\n",
      "|1951|         2|United States of ...|       25|               6|\n",
      "|1952|         2|United States of ...|       49|               7|\n",
      "|1953|         2|United States of ...|       25|               8|\n",
      "|1954|         2|United States of ...|       30|               9|\n",
      "|1955|         2|United States of ...|       27|              10|\n",
      "+----+----------+--------------------+---------+----------------+\n",
      "only showing top 10 rows"
     ]
    }
   ],
   "source": [
    "statesDf.select('year', 'state_code', 'state_name', 'all_votes', 'assembly_session').show(10)"
   ]
  },
  {
   "cell_type": "markdown",
   "id": "sound-brand",
   "metadata": {},
   "source": [
    "<br><br>\n",
    "### 2.2 Read and explore the Votes CSV"
   ]
  },
  {
   "cell_type": "code",
   "execution_count": 21,
   "id": "direct-advance",
   "metadata": {},
   "outputs": [
    {
     "data": {
      "application/vnd.jupyter.widget-view+json": {
       "model_id": "24c6288baedd4b2db73003fe1bd59918",
       "version_major": 2,
       "version_minor": 0
      },
      "text/plain": [
       "VBox()"
      ]
     },
     "metadata": {},
     "output_type": "display_data"
    },
    {
     "data": {
      "application/vnd.jupyter.widget-view+json": {
       "model_id": "",
       "version_major": 2,
       "version_minor": 0
      },
      "text/plain": [
       "FloatProgress(value=0.0, bar_style='info', description='Progress:', layout=Layout(height='25px', width='50%'),…"
      ]
     },
     "metadata": {},
     "output_type": "display_data"
    }
   ],
   "source": [
    "votesDf = spark.read.option(\"header\", \"true\").csv('s3://databrew-public-datasets-us-east-1/votes.csv')"
   ]
  },
  {
   "cell_type": "code",
   "execution_count": 22,
   "id": "miniature-fountain",
   "metadata": {},
   "outputs": [
    {
     "data": {
      "application/vnd.jupyter.widget-view+json": {
       "model_id": "927e2199acaf4cccbb074ecc5c1a1f7f",
       "version_major": 2,
       "version_minor": 0
      },
      "text/plain": [
       "VBox()"
      ]
     },
     "metadata": {},
     "output_type": "display_data"
    },
    {
     "data": {
      "application/vnd.jupyter.widget-view+json": {
       "model_id": "",
       "version_major": 2,
       "version_minor": 0
      },
      "text/plain": [
       "FloatProgress(value=0.0, bar_style='info', description='Progress:', layout=Layout(height='25px', width='50%'),…"
      ]
     },
     "metadata": {},
     "output_type": "display_data"
    },
    {
     "name": "stdout",
     "output_type": "stream",
     "text": [
      "root\n",
      " |-- assembly_session: string (nullable = true)\n",
      " |-- vote_id: string (nullable = true)\n",
      " |-- resolution: string (nullable = true)\n",
      " |-- state_code: string (nullable = true)\n",
      " |-- state_name: string (nullable = true)\n",
      " |-- member: string (nullable = true)\n",
      " |-- vote: string (nullable = true)"
     ]
    }
   ],
   "source": [
    "votesDf.printSchema()"
   ]
  },
  {
   "cell_type": "code",
   "execution_count": 23,
   "id": "interstate-summit",
   "metadata": {},
   "outputs": [
    {
     "data": {
      "application/vnd.jupyter.widget-view+json": {
       "model_id": "7425f645aaa246d6b0f253e411184b9d",
       "version_major": 2,
       "version_minor": 0
      },
      "text/plain": [
       "VBox()"
      ]
     },
     "metadata": {},
     "output_type": "display_data"
    },
    {
     "data": {
      "application/vnd.jupyter.widget-view+json": {
       "model_id": "",
       "version_major": 2,
       "version_minor": 0
      },
      "text/plain": [
       "FloatProgress(value=0.0, bar_style='info', description='Progress:', layout=Layout(height='25px', width='50%'),…"
      ]
     },
     "metadata": {},
     "output_type": "display_data"
    },
    {
     "name": "stdout",
     "output_type": "stream",
     "text": [
      "+----------------+-------+----------+----------+--------------------+------+----+\n",
      "|assembly_session|vote_id|resolution|state_code|          state_name|member|vote|\n",
      "+----------------+-------+----------+----------+--------------------+------+----+\n",
      "|               1|      3|    R/1/66|         2|United States of ...|     1|   1|\n",
      "|               1|      3|    R/1/66|        20|              Canada|     1|   3|\n",
      "|               1|      3|    R/1/66|        31|             Bahamas|     0|   9|\n",
      "|               1|      3|    R/1/66|        40|                Cuba|     1|   1|\n",
      "|               1|      3|    R/1/66|        41|               Haiti|     1|   1|\n",
      "|               1|      3|    R/1/66|        42|  Dominican Republic|     1|   1|\n",
      "|               1|      3|    R/1/66|        51|             Jamaica|     0|   9|\n",
      "|               1|      3|    R/1/66|        52| Trinidad and Tobago|     0|   9|\n",
      "|               1|      3|    R/1/66|        53|            Barbados|     0|   9|\n",
      "|               1|      3|    R/1/66|        54|            Dominica|     0|   9|\n",
      "+----------------+-------+----------+----------+--------------------+------+----+\n",
      "only showing top 10 rows"
     ]
    }
   ],
   "source": [
    "votesDf.show(10)"
   ]
  },
  {
   "cell_type": "markdown",
   "id": "adopted-series",
   "metadata": {},
   "source": [
    "<br><br>\n",
    "### 2.3 Read and explore the Resolution CSV"
   ]
  },
  {
   "cell_type": "code",
   "execution_count": 24,
   "id": "ordinary-auditor",
   "metadata": {},
   "outputs": [
    {
     "data": {
      "application/vnd.jupyter.widget-view+json": {
       "model_id": "961b0f25c427438f9c997192b5a709f2",
       "version_major": 2,
       "version_minor": 0
      },
      "text/plain": [
       "VBox()"
      ]
     },
     "metadata": {},
     "output_type": "display_data"
    },
    {
     "data": {
      "application/vnd.jupyter.widget-view+json": {
       "model_id": "",
       "version_major": 2,
       "version_minor": 0
      },
      "text/plain": [
       "FloatProgress(value=0.0, bar_style='info', description='Progress:', layout=Layout(height='25px', width='50%'),…"
      ]
     },
     "metadata": {},
     "output_type": "display_data"
    }
   ],
   "source": [
    "resolutionDf = spark.read.option(\"header\", \"true\").csv('s3://databrew-public-datasets-us-east-1/resolution.csv')"
   ]
  },
  {
   "cell_type": "code",
   "execution_count": 25,
   "id": "sought-region",
   "metadata": {},
   "outputs": [
    {
     "data": {
      "application/vnd.jupyter.widget-view+json": {
       "model_id": "339f844dae0b43ffae855adfce308710",
       "version_major": 2,
       "version_minor": 0
      },
      "text/plain": [
       "VBox()"
      ]
     },
     "metadata": {},
     "output_type": "display_data"
    },
    {
     "data": {
      "application/vnd.jupyter.widget-view+json": {
       "model_id": "",
       "version_major": 2,
       "version_minor": 0
      },
      "text/plain": [
       "FloatProgress(value=0.0, bar_style='info', description='Progress:', layout=Layout(height='25px', width='50%'),…"
      ]
     },
     "metadata": {},
     "output_type": "display_data"
    },
    {
     "name": "stdout",
     "output_type": "stream",
     "text": [
      "root\n",
      " |-- assembly_session: string (nullable = true)\n",
      " |-- vote_id: string (nullable = true)\n",
      " |-- resolution: string (nullable = true)\n",
      " |-- amendment: string (nullable = true)\n",
      " |-- vote_date: string (nullable = true)\n",
      " |-- significant_vote: string (nullable = true)\n",
      " |-- yes_votes: string (nullable = true)\n",
      " |-- no_votes: string (nullable = true)\n",
      " |-- abstain: string (nullable = true)\n",
      " |-- colonization: string (nullable = true)\n",
      " |-- human_rights: string (nullable = true)\n",
      " |-- israel_palestine: string (nullable = true)\n",
      " |-- disarmament: string (nullable = true)\n",
      " |-- nuclear_weapons: string (nullable = true)\n",
      " |-- economic_development: string (nullable = true)"
     ]
    }
   ],
   "source": [
    "resolutionDf.printSchema()"
   ]
  },
  {
   "cell_type": "markdown",
   "id": "selective-relaxation",
   "metadata": {},
   "source": [
    "<br><br>\n",
    "### 2.4 Prior to join, we select the columns needed"
   ]
  },
  {
   "cell_type": "code",
   "execution_count": 26,
   "id": "wireless-carter",
   "metadata": {},
   "outputs": [
    {
     "data": {
      "application/vnd.jupyter.widget-view+json": {
       "model_id": "ef7744cdd2434a629192620ee7166d3b",
       "version_major": 2,
       "version_minor": 0
      },
      "text/plain": [
       "VBox()"
      ]
     },
     "metadata": {},
     "output_type": "display_data"
    },
    {
     "data": {
      "application/vnd.jupyter.widget-view+json": {
       "model_id": "",
       "version_major": 2,
       "version_minor": 0
      },
      "text/plain": [
       "FloatProgress(value=0.0, bar_style='info', description='Progress:', layout=Layout(height='25px', width='50%'),…"
      ]
     },
     "metadata": {},
     "output_type": "display_data"
    }
   ],
   "source": [
    "resolutionDf = resolutionDf.select('assembly_session', 'disarmament', 'human_rights', 'economic_development', \\\n",
    "    'yes_votes', 'no_votes', 'abstain')"
   ]
  },
  {
   "cell_type": "code",
   "execution_count": 27,
   "id": "convinced-suspension",
   "metadata": {},
   "outputs": [
    {
     "data": {
      "application/vnd.jupyter.widget-view+json": {
       "model_id": "c64293a547064bb5a690ddd64c7439cb",
       "version_major": 2,
       "version_minor": 0
      },
      "text/plain": [
       "VBox()"
      ]
     },
     "metadata": {},
     "output_type": "display_data"
    },
    {
     "data": {
      "application/vnd.jupyter.widget-view+json": {
       "model_id": "",
       "version_major": 2,
       "version_minor": 0
      },
      "text/plain": [
       "FloatProgress(value=0.0, bar_style='info', description='Progress:', layout=Layout(height='25px', width='50%'),…"
      ]
     },
     "metadata": {},
     "output_type": "display_data"
    }
   ],
   "source": [
    "votesDf = votesDf.select('state_name', 'assembly_session')"
   ]
  },
  {
   "cell_type": "markdown",
   "id": "technological-plaza",
   "metadata": {},
   "source": [
    "<br><br>\n",
    "### 2.5 Next, we join the Resolution and Votes DataFrame by the column assemply_session"
   ]
  },
  {
   "cell_type": "code",
   "execution_count": 28,
   "id": "banner-freedom",
   "metadata": {},
   "outputs": [
    {
     "data": {
      "application/vnd.jupyter.widget-view+json": {
       "model_id": "112fe2c1b60c46389de1bec6e73b8a05",
       "version_major": 2,
       "version_minor": 0
      },
      "text/plain": [
       "VBox()"
      ]
     },
     "metadata": {},
     "output_type": "display_data"
    },
    {
     "data": {
      "application/vnd.jupyter.widget-view+json": {
       "model_id": "",
       "version_major": 2,
       "version_minor": 0
      },
      "text/plain": [
       "FloatProgress(value=0.0, bar_style='info', description='Progress:', layout=Layout(height='25px', width='50%'),…"
      ]
     },
     "metadata": {},
     "output_type": "display_data"
    }
   ],
   "source": [
    "joined_dataframe = resolutionDf.join(votesDf, resolutionDf.assembly_session == votesDf.assembly_session)"
   ]
  },
  {
   "cell_type": "markdown",
   "id": "thick-throw",
   "metadata": {},
   "source": [
    "<br><br>\n",
    "### 2.6 Then, we scope down the analysis to the country of interest"
   ]
  },
  {
   "cell_type": "code",
   "execution_count": 29,
   "id": "baking-gates",
   "metadata": {},
   "outputs": [
    {
     "data": {
      "application/vnd.jupyter.widget-view+json": {
       "model_id": "1ee976c242a14725b0e88ee7253d9f32",
       "version_major": 2,
       "version_minor": 0
      },
      "text/plain": [
       "VBox()"
      ]
     },
     "metadata": {},
     "output_type": "display_data"
    },
    {
     "data": {
      "application/vnd.jupyter.widget-view+json": {
       "model_id": "",
       "version_major": 2,
       "version_minor": 0
      },
      "text/plain": [
       "FloatProgress(value=0.0, bar_style='info', description='Progress:', layout=Layout(height='25px', width='50%'),…"
      ]
     },
     "metadata": {},
     "output_type": "display_data"
    }
   ],
   "source": [
    "joined_dataframe = joined_dataframe.filter(joined_dataframe.state_name == 'Chile')"
   ]
  },
  {
   "cell_type": "markdown",
   "id": "subsequent-cookie",
   "metadata": {},
   "source": [
    "<br><br>\n",
    "### 2.7 Finally, let's take a look into the joined DataFrame"
   ]
  },
  {
   "cell_type": "code",
   "execution_count": 30,
   "id": "incoming-milan",
   "metadata": {},
   "outputs": [
    {
     "data": {
      "application/vnd.jupyter.widget-view+json": {
       "model_id": "1784413e7851401f989b06f3bd9f5b1c",
       "version_major": 2,
       "version_minor": 0
      },
      "text/plain": [
       "VBox()"
      ]
     },
     "metadata": {},
     "output_type": "display_data"
    },
    {
     "data": {
      "application/vnd.jupyter.widget-view+json": {
       "model_id": "",
       "version_major": 2,
       "version_minor": 0
      },
      "text/plain": [
       "FloatProgress(value=0.0, bar_style='info', description='Progress:', layout=Layout(height='25px', width='50%'),…"
      ]
     },
     "metadata": {},
     "output_type": "display_data"
    },
    {
     "name": "stdout",
     "output_type": "stream",
     "text": [
      "root\n",
      " |-- assembly_session: string (nullable = true)\n",
      " |-- disarmament: string (nullable = true)\n",
      " |-- human_rights: string (nullable = true)\n",
      " |-- economic_development: string (nullable = true)\n",
      " |-- yes_votes: string (nullable = true)\n",
      " |-- no_votes: string (nullable = true)\n",
      " |-- abstain: string (nullable = true)\n",
      " |-- state_name: string (nullable = true)\n",
      " |-- assembly_session: string (nullable = true)"
     ]
    }
   ],
   "source": [
    "joined_dataframe.printSchema()"
   ]
  },
  {
   "cell_type": "code",
   "execution_count": 31,
   "id": "executed-macintosh",
   "metadata": {},
   "outputs": [
    {
     "data": {
      "application/vnd.jupyter.widget-view+json": {
       "model_id": "5794a1ba581c454f96f5ba62e05e7b24",
       "version_major": 2,
       "version_minor": 0
      },
      "text/plain": [
       "VBox()"
      ]
     },
     "metadata": {},
     "output_type": "display_data"
    },
    {
     "data": {
      "application/vnd.jupyter.widget-view+json": {
       "model_id": "",
       "version_major": 2,
       "version_minor": 0
      },
      "text/plain": [
       "FloatProgress(value=0.0, bar_style='info', description='Progress:', layout=Layout(height='25px', width='50%'),…"
      ]
     },
     "metadata": {},
     "output_type": "display_data"
    },
    {
     "name": "stdout",
     "output_type": "stream",
     "text": [
      "+----------------+-----------+------------+--------------------+---------+--------+-------+----------+----------------+\n",
      "|assembly_session|disarmament|human_rights|economic_development|yes_votes|no_votes|abstain|state_name|assembly_session|\n",
      "+----------------+-----------+------------+--------------------+---------+--------+-------+----------+----------------+\n",
      "|               1|          0|           0|                   0|       14|      35|      4|     Chile|               1|\n",
      "|               1|          0|           0|                   0|       30|       5|     18|     Chile|               1|\n",
      "|               1|          0|           0|                   1|       34|      11|      8|     Chile|               1|\n",
      "|               1|          0|           0|                   1|       25|      22|      6|     Chile|               1|\n",
      "|               1|          0|           0|                   1|       15|      28|     10|     Chile|               1|\n",
      "|               1|          0|           0|                   0|       46|       7|      0|     Chile|               1|\n",
      "|               1|          0|           0|                   0|       28|      15|      7|     Chile|               1|\n",
      "|               1|          0|           0|                   0|       31|       1|     21|     Chile|               1|\n",
      "|               1|          0|           0|                   0|       23|      14|     17|     Chile|               1|\n",
      "|               1|          0|           0|                   0|       25|      24|      4|     Chile|               1|\n",
      "+----------------+-----------+------------+--------------------+---------+--------+-------+----------+----------------+\n",
      "only showing top 10 rows"
     ]
    }
   ],
   "source": [
    "joined_dataframe.show(10)"
   ]
  },
  {
   "cell_type": "markdown",
   "id": "psychological-millennium",
   "metadata": {},
   "source": [
    "<br><br>\n",
    "<a id=\"section3\"></a>\n",
    "## 3. Using SQL to query DataFrames"
   ]
  },
  {
   "cell_type": "markdown",
   "id": "pleased-cornwall",
   "metadata": {},
   "source": [
    "### 3.1 We use <b>registerTempTable()</b> function to register a DataFrame as a Temporary Table in the SQLContext"
   ]
  },
  {
   "cell_type": "code",
   "execution_count": 32,
   "id": "regional-jurisdiction",
   "metadata": {},
   "outputs": [
    {
     "data": {
      "application/vnd.jupyter.widget-view+json": {
       "model_id": "3ba50df6cf7f4ff69b4366393a7520db",
       "version_major": 2,
       "version_minor": 0
      },
      "text/plain": [
       "VBox()"
      ]
     },
     "metadata": {},
     "output_type": "display_data"
    },
    {
     "data": {
      "application/vnd.jupyter.widget-view+json": {
       "model_id": "",
       "version_major": 2,
       "version_minor": 0
      },
      "text/plain": [
       "FloatProgress(value=0.0, bar_style='info', description='Progress:', layout=Layout(height='25px', width='50%'),…"
      ]
     },
     "metadata": {},
     "output_type": "display_data"
    }
   ],
   "source": [
    "joined_dataframe.registerTempTable(\"unvotes\")"
   ]
  },
  {
   "cell_type": "markdown",
   "id": "special-bible",
   "metadata": {},
   "source": [
    "<br><br>\n",
    "### 3.2 Now we can create our SQL queries and run them in a simple way\n",
    "Notice the <b>%%sql</b> IPython magic command. This query will run under the SQL context"
   ]
  },
  {
   "cell_type": "code",
   "execution_count": 33,
   "id": "single-blank",
   "metadata": {},
   "outputs": [
    {
     "data": {
      "application/vnd.jupyter.widget-view+json": {
       "model_id": "",
       "version_major": 2,
       "version_minor": 0
      },
      "text/plain": [
       "FloatProgress(value=0.0, bar_style='info', description='Progress:', layout=Layout(height='25px', width='50%'),…"
      ]
     },
     "metadata": {},
     "output_type": "display_data"
    },
    {
     "data": {
      "application/vnd.jupyter.widget-view+json": {
       "model_id": "f450546831164b67ba494d7e4d776b56",
       "version_major": 2,
       "version_minor": 0
      },
      "text/plain": [
       "VBox(children=(HBox(children=(HTML(value='Type:'), Button(description='Table', layout=Layout(width='70px'), st…"
      ]
     },
     "metadata": {},
     "output_type": "display_data"
    },
    {
     "data": {
      "application/vnd.jupyter.widget-view+json": {
       "model_id": "f9b9f907f6114bc5a756fb33134a0acd",
       "version_major": 2,
       "version_minor": 0
      },
      "text/plain": [
       "Output()"
      ]
     },
     "metadata": {},
     "output_type": "display_data"
    }
   ],
   "source": [
    "%%sql\n",
    "select 'human_rights', sum(yes_votes), sum(no_votes), sum(abstain) from unvotes where human_rights = 1"
   ]
  },
  {
   "cell_type": "markdown",
   "id": "shared-belief",
   "metadata": {},
   "source": [
    "<br><br>\n",
    "### 3.3 Now lets get the sum of yes, no and abstain votes for human_rights, economic_development and disarmament using <b>spark.sql()</b>"
   ]
  },
  {
   "cell_type": "code",
   "execution_count": 34,
   "id": "mature-volunteer",
   "metadata": {},
   "outputs": [
    {
     "data": {
      "application/vnd.jupyter.widget-view+json": {
       "model_id": "55586b4e3d664baeae281fe6ebab50af",
       "version_major": 2,
       "version_minor": 0
      },
      "text/plain": [
       "VBox()"
      ]
     },
     "metadata": {},
     "output_type": "display_data"
    },
    {
     "data": {
      "application/vnd.jupyter.widget-view+json": {
       "model_id": "",
       "version_major": 2,
       "version_minor": 0
      },
      "text/plain": [
       "FloatProgress(value=0.0, bar_style='info', description='Progress:', layout=Layout(height='25px', width='50%'),…"
      ]
     },
     "metadata": {},
     "output_type": "display_data"
    },
    {
     "name": "stdout",
     "output_type": "stream",
     "text": [
      "+------------+------------------------------+-----------------------------+----------------------------+\n",
      "|human_rights|sum(CAST(yes_votes AS DOUBLE))|sum(CAST(no_votes AS DOUBLE))|sum(CAST(abstain AS DOUBLE))|\n",
      "+------------+------------------------------+-----------------------------+----------------------------+\n",
      "|human_rights|                   1.0118779E7|                    1003432.0|                   2054058.0|\n",
      "+------------+------------------------------+-----------------------------+----------------------------+"
     ]
    }
   ],
   "source": [
    "query = query = \"select 'human_rights', sum(yes_votes), sum(no_votes), sum(abstain) from unvotes where human_rights = 1\"\n",
    "human_rights = spark.sql(query)\n",
    "human_rights.show()"
   ]
  },
  {
   "cell_type": "code",
   "execution_count": 35,
   "id": "armed-football",
   "metadata": {},
   "outputs": [
    {
     "data": {
      "application/vnd.jupyter.widget-view+json": {
       "model_id": "c440747f83da4008af45aa980f47e4c6",
       "version_major": 2,
       "version_minor": 0
      },
      "text/plain": [
       "VBox()"
      ]
     },
     "metadata": {},
     "output_type": "display_data"
    },
    {
     "data": {
      "application/vnd.jupyter.widget-view+json": {
       "model_id": "",
       "version_major": 2,
       "version_minor": 0
      },
      "text/plain": [
       "FloatProgress(value=0.0, bar_style='info', description='Progress:', layout=Layout(height='25px', width='50%'),…"
      ]
     },
     "metadata": {},
     "output_type": "display_data"
    },
    {
     "name": "stdout",
     "output_type": "stream",
     "text": [
      "+--------------------+------------------------------+-----------------------------+----------------------------+\n",
      "|economic_development|sum(CAST(yes_votes AS DOUBLE))|sum(CAST(no_votes AS DOUBLE))|sum(CAST(abstain AS DOUBLE))|\n",
      "+--------------------+------------------------------+-----------------------------+----------------------------+\n",
      "|economic_development|                     5611881.0|                     319123.0|                    774589.0|\n",
      "+--------------------+------------------------------+-----------------------------+----------------------------+"
     ]
    }
   ],
   "source": [
    "query = \"select 'economic_development', sum(yes_votes), sum(no_votes), sum(abstain) from unvotes where economic_development = 1\"\n",
    "economic_development = spark.sql(query)\n",
    "economic_development.show()"
   ]
  },
  {
   "cell_type": "code",
   "execution_count": 36,
   "id": "blank-polyester",
   "metadata": {},
   "outputs": [
    {
     "data": {
      "application/vnd.jupyter.widget-view+json": {
       "model_id": "6abdf831e2b94c3896a97b241903ce44",
       "version_major": 2,
       "version_minor": 0
      },
      "text/plain": [
       "VBox()"
      ]
     },
     "metadata": {},
     "output_type": "display_data"
    },
    {
     "data": {
      "application/vnd.jupyter.widget-view+json": {
       "model_id": "",
       "version_major": 2,
       "version_minor": 0
      },
      "text/plain": [
       "FloatProgress(value=0.0, bar_style='info', description='Progress:', layout=Layout(height='25px', width='50%'),…"
      ]
     },
     "metadata": {},
     "output_type": "display_data"
    },
    {
     "name": "stdout",
     "output_type": "stream",
     "text": [
      "+-----------+------------------------------+-----------------------------+----------------------------+\n",
      "|disarmament|sum(CAST(yes_votes AS DOUBLE))|sum(CAST(no_votes AS DOUBLE))|sum(CAST(abstain AS DOUBLE))|\n",
      "+-----------+------------------------------+-----------------------------+----------------------------+\n",
      "|disarmament|                   1.1687243E7|                     732267.0|                   1662575.0|\n",
      "+-----------+------------------------------+-----------------------------+----------------------------+"
     ]
    }
   ],
   "source": [
    "query = \"select 'disarmament', sum(yes_votes), sum(no_votes), sum(abstain) from unvotes where disarmament = 1\"\n",
    "disarmament = spark.sql(query)\n",
    "disarmament.show()"
   ]
  },
  {
   "cell_type": "markdown",
   "id": "electrical-small",
   "metadata": {},
   "source": [
    "<br><br>\n",
    "### 3.4 Then, we concatenate the three DataFrames using <b>union()</b>"
   ]
  },
  {
   "cell_type": "code",
   "execution_count": 37,
   "id": "liquid-poverty",
   "metadata": {},
   "outputs": [
    {
     "data": {
      "application/vnd.jupyter.widget-view+json": {
       "model_id": "1bc7c3e1c0364e93b4a0b33f59b5bb73",
       "version_major": 2,
       "version_minor": 0
      },
      "text/plain": [
       "VBox()"
      ]
     },
     "metadata": {},
     "output_type": "display_data"
    },
    {
     "data": {
      "application/vnd.jupyter.widget-view+json": {
       "model_id": "",
       "version_major": 2,
       "version_minor": 0
      },
      "text/plain": [
       "FloatProgress(value=0.0, bar_style='info', description='Progress:', layout=Layout(height='25px', width='50%'),…"
      ]
     },
     "metadata": {},
     "output_type": "display_data"
    }
   ],
   "source": [
    "totals = human_rights.union(economic_development).union(disarmament)\n",
    "totals = totals.withColumnRenamed('human_rights', 'topic')\n",
    "totals = totals.withColumnRenamed('sum(CAST(yes_votes AS DOUBLE))', 'yes')\n",
    "totals = totals.withColumnRenamed('sum(CAST(no_votes AS DOUBLE))', 'no')\n",
    "totals = totals.withColumnRenamed('sum(CAST(abstain AS DOUBLE))', 'abstain')"
   ]
  },
  {
   "cell_type": "code",
   "execution_count": 38,
   "id": "minor-qatar",
   "metadata": {},
   "outputs": [
    {
     "data": {
      "application/vnd.jupyter.widget-view+json": {
       "model_id": "4d84c0ab49214aa598ded3304e76404d",
       "version_major": 2,
       "version_minor": 0
      },
      "text/plain": [
       "VBox()"
      ]
     },
     "metadata": {},
     "output_type": "display_data"
    },
    {
     "data": {
      "application/vnd.jupyter.widget-view+json": {
       "model_id": "",
       "version_major": 2,
       "version_minor": 0
      },
      "text/plain": [
       "FloatProgress(value=0.0, bar_style='info', description='Progress:', layout=Layout(height='25px', width='50%'),…"
      ]
     },
     "metadata": {},
     "output_type": "display_data"
    },
    {
     "name": "stdout",
     "output_type": "stream",
     "text": [
      "+--------------------+-----------+---------+---------+\n",
      "|               topic|        yes|       no|  abstain|\n",
      "+--------------------+-----------+---------+---------+\n",
      "|        human_rights|1.0118779E7|1003432.0|2054058.0|\n",
      "|economic_development|  5611881.0| 319123.0| 774589.0|\n",
      "|         disarmament|1.1687243E7| 732267.0|1662575.0|\n",
      "+--------------------+-----------+---------+---------+"
     ]
    }
   ],
   "source": [
    "totals.show()"
   ]
  },
  {
   "cell_type": "code",
   "execution_count": 39,
   "id": "written-sixth",
   "metadata": {},
   "outputs": [
    {
     "data": {
      "application/vnd.jupyter.widget-view+json": {
       "model_id": "23bc249723ac4b7abd98c8620067abf5",
       "version_major": 2,
       "version_minor": 0
      },
      "text/plain": [
       "VBox()"
      ]
     },
     "metadata": {},
     "output_type": "display_data"
    },
    {
     "data": {
      "application/vnd.jupyter.widget-view+json": {
       "model_id": "",
       "version_major": 2,
       "version_minor": 0
      },
      "text/plain": [
       "FloatProgress(value=0.0, bar_style='info', description='Progress:', layout=Layout(height='25px', width='50%'),…"
      ]
     },
     "metadata": {},
     "output_type": "display_data"
    }
   ],
   "source": [
    "totals.registerTempTable(\"totals\")"
   ]
  },
  {
   "cell_type": "markdown",
   "id": "informed-import",
   "metadata": {},
   "source": [
    "<br><br>\n",
    "### 3.5 View the results\n",
    "Run the following cell and when the table is shown, choose the <b>Bar</b> button to interactively visualize the data on a graph bar. Change the value on the <b>Y</b> dropdown list to select the yes, no and abstain votes"
   ]
  },
  {
   "cell_type": "code",
   "execution_count": 41,
   "id": "painful-article",
   "metadata": {},
   "outputs": [
    {
     "data": {
      "application/vnd.jupyter.widget-view+json": {
       "model_id": "",
       "version_major": 2,
       "version_minor": 0
      },
      "text/plain": [
       "FloatProgress(value=0.0, bar_style='info', description='Progress:', layout=Layout(height='25px', width='50%'),…"
      ]
     },
     "metadata": {},
     "output_type": "display_data"
    },
    {
     "data": {
      "application/vnd.jupyter.widget-view+json": {
       "model_id": "fb8240f704a54669a6e161f9fd5c04db",
       "version_major": 2,
       "version_minor": 0
      },
      "text/plain": [
       "VBox(children=(HBox(children=(HTML(value='Type:'), Button(description='Table', layout=Layout(width='70px'), st…"
      ]
     },
     "metadata": {},
     "output_type": "display_data"
    },
    {
     "data": {
      "application/vnd.jupyter.widget-view+json": {
       "model_id": "1574dbd7741a4afab47a1c4267a0e39e",
       "version_major": 2,
       "version_minor": 0
      },
      "text/plain": [
       "Output()"
      ]
     },
     "metadata": {},
     "output_type": "display_data"
    }
   ],
   "source": [
    "%%sql\n",
    "select * from totals"
   ]
  },
  {
   "cell_type": "markdown",
   "id": "animal-shopper",
   "metadata": {},
   "source": [
    "<br><br>\n",
    "<a id=\"section4\"></a>\n",
    "## 4. Writing out results: partitioning"
   ]
  },
  {
   "cell_type": "markdown",
   "id": "mediterranean-bracket",
   "metadata": {},
   "source": [
    "### 4.1 Write results\n",
    "Let's start by writing out our totals DataFrame usin the <b>write()</b> function"
   ]
  },
  {
   "cell_type": "code",
   "execution_count": 42,
   "id": "rough-harris",
   "metadata": {},
   "outputs": [
    {
     "data": {
      "application/vnd.jupyter.widget-view+json": {
       "model_id": "645ad947316949ed870f2247ff4fbe3d",
       "version_major": 2,
       "version_minor": 0
      },
      "text/plain": [
       "VBox()"
      ]
     },
     "metadata": {},
     "output_type": "display_data"
    },
    {
     "data": {
      "application/vnd.jupyter.widget-view+json": {
       "model_id": "",
       "version_major": 2,
       "version_minor": 0
      },
      "text/plain": [
       "FloatProgress(value=0.0, bar_style='info', description='Progress:', layout=Layout(height='25px', width='50%'),…"
      ]
     },
     "metadata": {},
     "output_type": "display_data"
    }
   ],
   "source": [
    "path = \"s3://{}/{}/lab1/out-totals/\".format(S3_BUCKETNAME, S3_PREFIX)\n",
    "totals.write.format(\"csv\").option(\"header\",\"true\").save(path)"
   ]
  },
  {
   "cell_type": "markdown",
   "id": "false-preview",
   "metadata": {},
   "source": [
    "<br><br>\n",
    "### 4.2 Partitions\n",
    "Now, let's find out how many partitions the DataFrame has using the <b>getNumPartitions()</b> function"
   ]
  },
  {
   "cell_type": "code",
   "execution_count": 43,
   "id": "differential-special",
   "metadata": {},
   "outputs": [
    {
     "data": {
      "application/vnd.jupyter.widget-view+json": {
       "model_id": "b0f0962f8d164c4886fc11b79318ca17",
       "version_major": 2,
       "version_minor": 0
      },
      "text/plain": [
       "VBox()"
      ]
     },
     "metadata": {},
     "output_type": "display_data"
    },
    {
     "data": {
      "application/vnd.jupyter.widget-view+json": {
       "model_id": "",
       "version_major": 2,
       "version_minor": 0
      },
      "text/plain": [
       "FloatProgress(value=0.0, bar_style='info', description='Progress:', layout=Layout(height='25px', width='50%'),…"
      ]
     },
     "metadata": {},
     "output_type": "display_data"
    },
    {
     "name": "stdout",
     "output_type": "stream",
     "text": [
      "3"
     ]
    }
   ],
   "source": [
    "totals.rdd.getNumPartitions()"
   ]
  },
  {
   "cell_type": "markdown",
   "id": "threaded-village",
   "metadata": {},
   "source": [
    "If you open the <a href=\"https://console.aws.amazon.com/s3/buckets/\">Amazon S3 Console</a>, choose your bucket and prefix for the lab, and navigate to the <b>\"lab1/out-totals/\"</b> prefix, you will find three CSV files corresponding to your partitions. Run the cell bellow to build the URL for you"
   ]
  },
  {
   "cell_type": "code",
   "execution_count": null,
   "id": "periodic-curtis",
   "metadata": {},
   "outputs": [],
   "source": [
    "print(\"https://console.aws.amazon.com/s3/buckets/{}?prefix={}/lab1/out-totals/\".format(S3_BUCKETNAME, S3_PREFIX))"
   ]
  },
  {
   "cell_type": "markdown",
   "id": "dangerous-perth",
   "metadata": {},
   "source": [
    "<br><br>\n",
    "### 4.3 Repartition\n",
    "Now, let's repartition the DataFrame using the <b>coalesce()</b> function and then we write the results to <b>\"lab1/out-totalsRep/\"</b> prefix"
   ]
  },
  {
   "cell_type": "code",
   "execution_count": 46,
   "id": "direct-aquarium",
   "metadata": {},
   "outputs": [
    {
     "data": {
      "application/vnd.jupyter.widget-view+json": {
       "model_id": "c6a72f59d0bd48ab925342655eb05dc5",
       "version_major": 2,
       "version_minor": 0
      },
      "text/plain": [
       "VBox()"
      ]
     },
     "metadata": {},
     "output_type": "display_data"
    },
    {
     "data": {
      "application/vnd.jupyter.widget-view+json": {
       "model_id": "",
       "version_major": 2,
       "version_minor": 0
      },
      "text/plain": [
       "FloatProgress(value=0.0, bar_style='info', description='Progress:', layout=Layout(height='25px', width='50%'),…"
      ]
     },
     "metadata": {},
     "output_type": "display_data"
    }
   ],
   "source": [
    "totals = totals.coalesce(1)\n",
    "path = \"s3://{}/{}/lab1/out-totalsRep/\".format(S3_BUCKETNAME, S3_PREFIX)\n",
    "totals.write.format(\"csv\").option(\"header\",\"true\").save(path)"
   ]
  },
  {
   "cell_type": "markdown",
   "id": "recognized-provision",
   "metadata": {},
   "source": [
    "Open the <a href=\"https://console.aws.amazon.com/s3/buckets/\">Amazon S3 Console</a> and make sure the <b>\"lab1/out-totalsRep/\"</b> prefix only has 1 CSV file. Run the cell bellow to build the URL for you"
   ]
  },
  {
   "cell_type": "code",
   "execution_count": null,
   "id": "elementary-eating",
   "metadata": {},
   "outputs": [],
   "source": [
    "print(\"https://console.aws.amazon.com/s3/buckets/{}?prefix={}/lab1/out-totalsRep/\".format(S3_BUCKETNAME, S3_PREFIX))"
   ]
  },
  {
   "cell_type": "markdown",
   "id": "muslim-pitch",
   "metadata": {},
   "source": [
    "<br><br>\n",
    "### 4.4 Partitioning by Column\n",
    "Now lets take the Amazon listings DataFrame we used before, and write it to <b>\"lab1/out-partitioning\"</b>. Notice the <b>partitionBy()<b> function"
   ]
  },
  {
   "cell_type": "code",
   "execution_count": 49,
   "id": "primary-penguin",
   "metadata": {},
   "outputs": [
    {
     "data": {
      "application/vnd.jupyter.widget-view+json": {
       "model_id": "bcd00b3a5894407386c1246d04bc56b8",
       "version_major": 2,
       "version_minor": 0
      },
      "text/plain": [
       "VBox()"
      ]
     },
     "metadata": {},
     "output_type": "display_data"
    },
    {
     "data": {
      "application/vnd.jupyter.widget-view+json": {
       "model_id": "",
       "version_major": 2,
       "version_minor": 0
      },
      "text/plain": [
       "FloatProgress(value=0.0, bar_style='info', description='Progress:', layout=Layout(height='25px', width='50%'),…"
      ]
     },
     "metadata": {},
     "output_type": "display_data"
    }
   ],
   "source": [
    "path = \"s3://{}/{}/lab1/out-partioning/\".format(S3_BUCKETNAME, S3_PREFIX)\n",
    "df.write.partitionBy(\"author\").format(\"json\").save(path)"
   ]
  },
  {
   "cell_type": "markdown",
   "id": "floral-recycling",
   "metadata": {},
   "source": [
    "Open the <a href=\"https://console.aws.amazon.com/s3/buckets/\">Amazon S3 Console</a> and make sure the <b>\"lab1/out-partioning/\"</b> prefix has 1 <i>folder<i> per author. Run the cell bellow to build the URL for you"
   ]
  },
  {
   "cell_type": "code",
   "execution_count": null,
   "id": "touched-insider",
   "metadata": {},
   "outputs": [],
   "source": [
    "print(\"https://console.aws.amazon.com/s3/buckets/{}?prefix={}/lab1/out-partioning/\".format(S3_BUCKETNAME, S3_PREFIX))"
   ]
  },
  {
   "cell_type": "code",
   "execution_count": null,
   "id": "comparable-massage",
   "metadata": {},
   "outputs": [],
   "source": []
  }
 ],
 "metadata": {
  "kernelspec": {
   "display_name": "PySpark",
   "language": "",
   "name": "pysparkkernel"
  },
  "language_info": {
   "codemirror_mode": {
    "name": "python",
    "version": 2
   },
   "mimetype": "text/x-python",
   "name": "pyspark",
   "pygments_lexer": "python2"
  }
 },
 "nbformat": 4,
 "nbformat_minor": 5
}
