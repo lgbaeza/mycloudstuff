{
 "cells": [
  {
   "cell_type": "markdown",
   "id": "unavailable-duncan",
   "metadata": {},
   "source": [
    "# Train a Clustering Model with Amazon SageMaker using pySpark\n",
    "Amazon SageMaker provides an Apache Spark library (in both Python and Scala) that you can use to integrate your Apache Spark applications with SageMaker. For example, you might use Apache Spark for data preprocessing and SageMaker for model training and hosting. \n",
    "\n",
    "1. [Setup](#section1)\n",
    "2. [Prepare training and test data](#section2)\n",
    "3. [Train the model](#section3)\n",
    "4. [Call the Inference Endpoint](#section4)\n",
    "5. [Analyze results](#section5)"
   ]
  },
  {
   "cell_type": "markdown",
   "id": "destroyed-aaron",
   "metadata": {},
   "source": [
    "<a id=\"section1\"></a>\n",
    "## 1. Setup"
   ]
  },
  {
   "cell_type": "code",
   "execution_count": 1,
   "id": "geological-elements",
   "metadata": {},
   "outputs": [
    {
     "data": {
      "application/vnd.jupyter.widget-view+json": {
       "model_id": "2463446bae934563b4a00e6cbb5992ca",
       "version_major": 2,
       "version_minor": 0
      },
      "text/plain": [
       "VBox()"
      ]
     },
     "metadata": {},
     "output_type": "display_data"
    },
    {
     "name": "stdout",
     "output_type": "stream",
     "text": [
      "Starting Spark application\n"
     ]
    },
    {
     "data": {
      "text/html": [
       "<table>\n",
       "<tr><th>ID</th><th>YARN Application ID</th><th>Kind</th><th>State</th><th>Spark UI</th><th>Driver log</th><th>Current session?</th></tr><tr><td>27</td><td>application_1616621397322_0028</td><td>pyspark</td><td>idle</td><td></td><td></td><td>✔</td></tr></table>"
      ],
      "text/plain": [
       "<IPython.core.display.HTML object>"
      ]
     },
     "metadata": {},
     "output_type": "display_data"
    },
    {
     "data": {
      "application/vnd.jupyter.widget-view+json": {
       "model_id": "",
       "version_major": 2,
       "version_minor": 0
      },
      "text/plain": [
       "FloatProgress(value=0.0, bar_style='info', description='Progress:', layout=Layout(height='25px', width='50%'),…"
      ]
     },
     "metadata": {},
     "output_type": "display_data"
    },
    {
     "name": "stdout",
     "output_type": "stream",
     "text": [
      "SparkSession available as 'spark'.\n"
     ]
    },
    {
     "data": {
      "application/vnd.jupyter.widget-view+json": {
       "model_id": "",
       "version_major": 2,
       "version_minor": 0
      },
      "text/plain": [
       "FloatProgress(value=0.0, bar_style='info', description='Progress:', layout=Layout(height='25px', width='50%'),…"
      ]
     },
     "metadata": {},
     "output_type": "display_data"
    }
   ],
   "source": [
    "from pyspark import SparkContext, SparkConf\n",
    "from sagemaker_pyspark import IAMRole, classpath_jars\n",
    "from sagemaker_pyspark.algorithms import KMeansSageMakerEstimator\n",
    "from pyspark.sql.functions import * "
   ]
  },
  {
   "cell_type": "markdown",
   "id": "judicial-phoenix",
   "metadata": {},
   "source": [
    "<p style=\"color:red\">! Insert your AWS Account ID bellow and the bucket name</p>\n",
    "Example: <br>\n",
    "AWS_ACCOUNT_ID = '000000000000'<br>\n",
    "S3_BUCKETNAME = 'samplebucket'"
   ]
  },
  {
   "cell_type": "code",
   "execution_count": 78,
   "id": "toxic-element",
   "metadata": {},
   "outputs": [
    {
     "data": {
      "application/vnd.jupyter.widget-view+json": {
       "model_id": "b7d006a468634668b54dee21adfaf84c",
       "version_major": 2,
       "version_minor": 0
      },
      "text/plain": [
       "VBox()"
      ]
     },
     "metadata": {},
     "output_type": "display_data"
    },
    {
     "data": {
      "application/vnd.jupyter.widget-view+json": {
       "model_id": "",
       "version_major": 2,
       "version_minor": 0
      },
      "text/plain": [
       "FloatProgress(value=0.0, bar_style='info', description='Progress:', layout=Layout(height='25px', width='50%'),…"
      ]
     },
     "metadata": {},
     "output_type": "display_data"
    }
   ],
   "source": [
    "AWS_ACCOUNT_ID = \"\"\n",
    "S3_BUCKETNAME = ''\n",
    "S3_PREFIX = 'pysparklab'\n",
    "region = \"us-east-2\"\n",
    "iam_role = \"arn:aws:iam::{}:role/sgmrole-pyspark\".format(AWS_ACCOUNT_ID)"
   ]
  },
  {
   "cell_type": "markdown",
   "id": "impressed-dance",
   "metadata": {},
   "source": [
    "<br><br>\n",
    "<a id=\"section2\"></a>\n",
    "# 2. Prepare training and test data"
   ]
  },
  {
   "cell_type": "markdown",
   "id": "advised-barrel",
   "metadata": {},
   "source": [
    "## 2.1 Load the data into a DataFrame\n",
    "Training data"
   ]
  },
  {
   "cell_type": "code",
   "execution_count": 3,
   "id": "bigger-panic",
   "metadata": {},
   "outputs": [
    {
     "data": {
      "application/vnd.jupyter.widget-view+json": {
       "model_id": "5fc988aa4e5e48fd90bdef0018f8531b",
       "version_major": 2,
       "version_minor": 0
      },
      "text/plain": [
       "VBox()"
      ]
     },
     "metadata": {},
     "output_type": "display_data"
    },
    {
     "data": {
      "application/vnd.jupyter.widget-view+json": {
       "model_id": "",
       "version_major": 2,
       "version_minor": 0
      },
      "text/plain": [
       "FloatProgress(value=0.0, bar_style='info', description='Progress:', layout=Layout(height='25px', width='50%'),…"
      ]
     },
     "metadata": {},
     "output_type": "display_data"
    }
   ],
   "source": [
    "path = \"s3://sagemaker-sample-data-{}/spark/mnist/train/\".format(region)\n",
    "training_data = spark.read.format(\"libsvm\").option(\"numFeatures\", \"784\").load(path)"
   ]
  },
  {
   "cell_type": "code",
   "execution_count": 4,
   "id": "extra-university",
   "metadata": {},
   "outputs": [
    {
     "data": {
      "application/vnd.jupyter.widget-view+json": {
       "model_id": "dfe4176d1909458daa6861c9e254d383",
       "version_major": 2,
       "version_minor": 0
      },
      "text/plain": [
       "VBox()"
      ]
     },
     "metadata": {},
     "output_type": "display_data"
    },
    {
     "data": {
      "application/vnd.jupyter.widget-view+json": {
       "model_id": "",
       "version_major": 2,
       "version_minor": 0
      },
      "text/plain": [
       "FloatProgress(value=0.0, bar_style='info', description='Progress:', layout=Layout(height='25px', width='50%'),…"
      ]
     },
     "metadata": {},
     "output_type": "display_data"
    },
    {
     "name": "stdout",
     "output_type": "stream",
     "text": [
      "60000"
     ]
    }
   ],
   "source": [
    "training_data.count()"
   ]
  },
  {
   "cell_type": "markdown",
   "id": "whole-nepal",
   "metadata": {},
   "source": [
    "<br><br>\n",
    "Test data"
   ]
  },
  {
   "cell_type": "code",
   "execution_count": 5,
   "id": "numeric-import",
   "metadata": {},
   "outputs": [
    {
     "data": {
      "application/vnd.jupyter.widget-view+json": {
       "model_id": "46273545c75f42a4b64d33f2c5a84b37",
       "version_major": 2,
       "version_minor": 0
      },
      "text/plain": [
       "VBox()"
      ]
     },
     "metadata": {},
     "output_type": "display_data"
    },
    {
     "data": {
      "application/vnd.jupyter.widget-view+json": {
       "model_id": "",
       "version_major": 2,
       "version_minor": 0
      },
      "text/plain": [
       "FloatProgress(value=0.0, bar_style='info', description='Progress:', layout=Layout(height='25px', width='50%'),…"
      ]
     },
     "metadata": {},
     "output_type": "display_data"
    }
   ],
   "source": [
    "path = \"s3://sagemaker-sample-data-{}/spark/mnist/test/\".format(region)\n",
    "test_data = spark.read.format(\"libsvm\").option(\"numFeatures\", \"784\").load(path)"
   ]
  },
  {
   "cell_type": "code",
   "execution_count": 6,
   "id": "amber-functionality",
   "metadata": {},
   "outputs": [
    {
     "data": {
      "application/vnd.jupyter.widget-view+json": {
       "model_id": "3e117d271e7f467cb33a331608df5048",
       "version_major": 2,
       "version_minor": 0
      },
      "text/plain": [
       "VBox()"
      ]
     },
     "metadata": {},
     "output_type": "display_data"
    },
    {
     "data": {
      "application/vnd.jupyter.widget-view+json": {
       "model_id": "",
       "version_major": 2,
       "version_minor": 0
      },
      "text/plain": [
       "FloatProgress(value=0.0, bar_style='info', description='Progress:', layout=Layout(height='25px', width='50%'),…"
      ]
     },
     "metadata": {},
     "output_type": "display_data"
    },
    {
     "name": "stdout",
     "output_type": "stream",
     "text": [
      "10000"
     ]
    }
   ],
   "source": [
    "test_data.count()"
   ]
  },
  {
   "cell_type": "markdown",
   "id": "written-shanghai",
   "metadata": {},
   "source": [
    "<br><br>\n",
    "## 2.2 Data schema\n",
    "You can use the same Spark functions you are familiar with to explore and prepare the data"
   ]
  },
  {
   "cell_type": "code",
   "execution_count": 7,
   "id": "chronic-tongue",
   "metadata": {},
   "outputs": [
    {
     "data": {
      "application/vnd.jupyter.widget-view+json": {
       "model_id": "087208044da74f509d77e70b5534cff1",
       "version_major": 2,
       "version_minor": 0
      },
      "text/plain": [
       "VBox()"
      ]
     },
     "metadata": {},
     "output_type": "display_data"
    },
    {
     "data": {
      "application/vnd.jupyter.widget-view+json": {
       "model_id": "",
       "version_major": 2,
       "version_minor": 0
      },
      "text/plain": [
       "FloatProgress(value=0.0, bar_style='info', description='Progress:', layout=Layout(height='25px', width='50%'),…"
      ]
     },
     "metadata": {},
     "output_type": "display_data"
    },
    {
     "name": "stdout",
     "output_type": "stream",
     "text": [
      "root\n",
      " |-- label: double (nullable = true)\n",
      " |-- features: vector (nullable = true)"
     ]
    }
   ],
   "source": [
    "training_data.printSchema()"
   ]
  },
  {
   "cell_type": "markdown",
   "id": "authentic-amazon",
   "metadata": {},
   "source": [
    "<br><br>\n",
    "In each row:\n",
    "* The label column identifies the image's label. If the image of the handwritten number is the digit 5, the label value is 5.\n",
    "* The features column stores a vector of Double values. These are the 784 features of the handwritten number. (Each handwritten number is a 28 x 28-pixel image, making 784 features.)"
   ]
  },
  {
   "cell_type": "code",
   "execution_count": 8,
   "id": "established-racing",
   "metadata": {},
   "outputs": [
    {
     "data": {
      "application/vnd.jupyter.widget-view+json": {
       "model_id": "edf6fe48aea1467ba5fd5e026a2dec10",
       "version_major": 2,
       "version_minor": 0
      },
      "text/plain": [
       "VBox()"
      ]
     },
     "metadata": {},
     "output_type": "display_data"
    },
    {
     "data": {
      "application/vnd.jupyter.widget-view+json": {
       "model_id": "",
       "version_major": 2,
       "version_minor": 0
      },
      "text/plain": [
       "FloatProgress(value=0.0, bar_style='info', description='Progress:', layout=Layout(height='25px', width='50%'),…"
      ]
     },
     "metadata": {},
     "output_type": "display_data"
    },
    {
     "name": "stdout",
     "output_type": "stream",
     "text": [
      "+-----+-----------------------------------------------------------------------------------------------------------------------------------------------------------------------------------------------------------------------------------------------------------------------------------------------------------------------------------------------------------------------------------------------------------------------------------------------------------------------------------------------------------------------------------------------------------------------------------------------------------------------------------------------------------------------------------------------------------------------------------------------------------------------------------------------------------------------------------------------------------------------------------------------------------------------------------------------------------------------------------------------------------------------------------------------------------------------------------------------------------------------------------------------------------------------------------------------------------------------------------------------------------------------------------------------------------------------------------------------------------------------------------------------------------------------------------------------------------------------------------------------------------------------------------------------------------------------------------------------------------------------------------------------------------------------------+\n",
      "|label|features                                                                                                                                                                                                                                                                                                                                                                                                                                                                                                                                                                                                                                                                                                                                                                                                                                                                                                                                                                                                                                                                                                                                                                                                                                                                                                                                                                                                                                                                                                                                                                                                                                                                     |\n",
      "+-----+-----------------------------------------------------------------------------------------------------------------------------------------------------------------------------------------------------------------------------------------------------------------------------------------------------------------------------------------------------------------------------------------------------------------------------------------------------------------------------------------------------------------------------------------------------------------------------------------------------------------------------------------------------------------------------------------------------------------------------------------------------------------------------------------------------------------------------------------------------------------------------------------------------------------------------------------------------------------------------------------------------------------------------------------------------------------------------------------------------------------------------------------------------------------------------------------------------------------------------------------------------------------------------------------------------------------------------------------------------------------------------------------------------------------------------------------------------------------------------------------------------------------------------------------------------------------------------------------------------------------------------------------------------------------------------+\n",
      "|5.0  |(784,[152,153,154,155,156,157,158,159,160,161,162,163,176,177,178,179,180,181,182,183,184,185,186,187,188,189,190,191,203,204,205,206,207,208,209,210,211,212,213,214,215,216,217,218,231,232,233,234,235,236,237,238,239,240,241,260,261,262,263,264,265,266,268,269,289,290,291,292,293,319,320,321,322,347,348,349,350,376,377,378,379,380,381,405,406,407,408,409,410,434,435,436,437,438,439,463,464,465,466,467,493,494,495,496,518,519,520,521,522,523,524,544,545,546,547,548,549,550,551,570,571,572,573,574,575,576,577,578,596,597,598,599,600,601,602,603,604,605,622,623,624,625,626,627,628,629,630,631,648,649,650,651,652,653,654,655,656,657,676,677,678,679,680,681,682,683],[3.0,18.0,18.0,18.0,126.0,136.0,175.0,26.0,166.0,255.0,247.0,127.0,30.0,36.0,94.0,154.0,170.0,253.0,253.0,253.0,253.0,253.0,225.0,172.0,253.0,242.0,195.0,64.0,49.0,238.0,253.0,253.0,253.0,253.0,253.0,253.0,253.0,253.0,251.0,93.0,82.0,82.0,56.0,39.0,18.0,219.0,253.0,253.0,253.0,253.0,253.0,198.0,182.0,247.0,241.0,80.0,156.0,107.0,253.0,253.0,205.0,11.0,43.0,154.0,14.0,1.0,154.0,253.0,90.0,139.0,253.0,190.0,2.0,11.0,190.0,253.0,70.0,35.0,241.0,225.0,160.0,108.0,1.0,81.0,240.0,253.0,253.0,119.0,25.0,45.0,186.0,253.0,253.0,150.0,27.0,16.0,93.0,252.0,253.0,187.0,249.0,253.0,249.0,64.0,46.0,130.0,183.0,253.0,253.0,207.0,2.0,39.0,148.0,229.0,253.0,253.0,253.0,250.0,182.0,24.0,114.0,221.0,253.0,253.0,253.0,253.0,201.0,78.0,23.0,66.0,213.0,253.0,253.0,253.0,253.0,198.0,81.0,2.0,18.0,171.0,219.0,253.0,253.0,253.0,253.0,195.0,80.0,9.0,55.0,172.0,226.0,253.0,253.0,253.0,253.0,244.0,133.0,11.0,136.0,253.0,253.0,253.0,212.0,135.0,132.0,16.0])|\n",
      "+-----+-----------------------------------------------------------------------------------------------------------------------------------------------------------------------------------------------------------------------------------------------------------------------------------------------------------------------------------------------------------------------------------------------------------------------------------------------------------------------------------------------------------------------------------------------------------------------------------------------------------------------------------------------------------------------------------------------------------------------------------------------------------------------------------------------------------------------------------------------------------------------------------------------------------------------------------------------------------------------------------------------------------------------------------------------------------------------------------------------------------------------------------------------------------------------------------------------------------------------------------------------------------------------------------------------------------------------------------------------------------------------------------------------------------------------------------------------------------------------------------------------------------------------------------------------------------------------------------------------------------------------------------------------------------------------------+\n",
      "only showing top 1 row"
     ]
    }
   ],
   "source": [
    "training_data.show(1, False)"
   ]
  },
  {
   "cell_type": "markdown",
   "id": "accredited-scratch",
   "metadata": {},
   "source": [
    "<br><br>\n",
    "### 2.3 Find the label distribution"
   ]
  },
  {
   "cell_type": "code",
   "execution_count": 16,
   "id": "secure-castle",
   "metadata": {},
   "outputs": [
    {
     "data": {
      "application/vnd.jupyter.widget-view+json": {
       "model_id": "f08a464b03e6441e911c3ac150566c94",
       "version_major": 2,
       "version_minor": 0
      },
      "text/plain": [
       "VBox()"
      ]
     },
     "metadata": {},
     "output_type": "display_data"
    },
    {
     "data": {
      "application/vnd.jupyter.widget-view+json": {
       "model_id": "",
       "version_major": 2,
       "version_minor": 0
      },
      "text/plain": [
       "FloatProgress(value=0.0, bar_style='info', description='Progress:', layout=Layout(height='25px', width='50%'),…"
      ]
     },
     "metadata": {},
     "output_type": "display_data"
    },
    {
     "name": "stdout",
     "output_type": "stream",
     "text": [
      "+-----+-----+\n",
      "|label|count|\n",
      "+-----+-----+\n",
      "|  8.0| 5851|\n",
      "|  0.0| 5923|\n",
      "|  7.0| 6265|\n",
      "|  1.0| 6742|\n",
      "|  4.0| 5842|\n",
      "|  3.0| 6131|\n",
      "|  2.0| 5958|\n",
      "|  6.0| 5918|\n",
      "|  5.0| 5421|\n",
      "|  9.0| 5949|\n",
      "+-----+-----+"
     ]
    }
   ],
   "source": [
    "training_data.groupby(\"label\").count().show()"
   ]
  },
  {
   "cell_type": "markdown",
   "id": "identical-terminal",
   "metadata": {},
   "source": [
    "<br><br>\n",
    "<a id=\"section3\"></a>\n",
    "# 3. Train the Model"
   ]
  },
  {
   "cell_type": "markdown",
   "id": "united-methodology",
   "metadata": {},
   "source": [
    "### 3.1 Create the SageMaker Estimator\n",
    "We will use the k-means algorithm provided by SageMaker. The <b>KMeansSageMakerEstimator</b> extend the SageMakerEstimator class, which handles end-to-end Amazon SageMaker training and deployment tasks.\n",
    "\n",
    "We provide information such as training and endpoint instance type.\n",
    "<br><br>\n",
    "You can [find more about the SageMaker K-Means algorythm on the docs](https://docs.aws.amazon.com/sagemaker/latest/dg/algo-kmeans-tech-notes.html)"
   ]
  },
  {
   "cell_type": "code",
   "execution_count": 20,
   "id": "running-resolution",
   "metadata": {},
   "outputs": [
    {
     "data": {
      "application/vnd.jupyter.widget-view+json": {
       "model_id": "15bdf0f63aea449da09975368c80184e",
       "version_major": 2,
       "version_minor": 0
      },
      "text/plain": [
       "VBox()"
      ]
     },
     "metadata": {},
     "output_type": "display_data"
    },
    {
     "data": {
      "application/vnd.jupyter.widget-view+json": {
       "model_id": "",
       "version_major": 2,
       "version_minor": 0
      },
      "text/plain": [
       "FloatProgress(value=0.0, bar_style='info', description='Progress:', layout=Layout(height='25px', width='50%'),…"
      ]
     },
     "metadata": {},
     "output_type": "display_data"
    }
   ],
   "source": [
    "kmeans_estimator = KMeansSageMakerEstimator(\n",
    "    trainingInstanceType=\"ml.m4.xlarge\",\n",
    "    trainingInstanceCount=1,\n",
    "    endpointInstanceType=\"ml.m4.xlarge\",\n",
    "    endpointInitialInstanceCount=1,\n",
    "    sagemakerRole=IAMRole(iam_role))"
   ]
  },
  {
   "cell_type": "markdown",
   "id": "bored-village",
   "metadata": {},
   "source": [
    "<br><br>\n",
    "### 3.2 Set hyperparameters"
   ]
  },
  {
   "cell_type": "markdown",
   "id": "emerging-approach",
   "metadata": {},
   "source": [
    "Especify feature size with <b>setFeatureDim()</b>"
   ]
  },
  {
   "cell_type": "code",
   "execution_count": 21,
   "id": "toxic-grass",
   "metadata": {},
   "outputs": [
    {
     "data": {
      "application/vnd.jupyter.widget-view+json": {
       "model_id": "2f12cac7ca254a418a1ccbe773f9df65",
       "version_major": 2,
       "version_minor": 0
      },
      "text/plain": [
       "VBox()"
      ]
     },
     "metadata": {},
     "output_type": "display_data"
    },
    {
     "data": {
      "application/vnd.jupyter.widget-view+json": {
       "model_id": "",
       "version_major": 2,
       "version_minor": 0
      },
      "text/plain": [
       "FloatProgress(value=0.0, bar_style='info', description='Progress:', layout=Layout(height='25px', width='50%'),…"
      ]
     },
     "metadata": {},
     "output_type": "display_data"
    }
   ],
   "source": [
    "kmeans_estimator.setK(10)\n",
    "kmeans_estimator.setFeatureDim(784)"
   ]
  },
  {
   "cell_type": "markdown",
   "id": "cleared-payment",
   "metadata": {},
   "source": [
    "<br><br>\n",
    "### 3.3 Call the fit method\n",
    "The <b>fit method</b> of this estimator train models using an input DataFrame. In response, it returns a SageMakerModel object that you can use to get inferences."
   ]
  },
  {
   "cell_type": "code",
   "execution_count": 22,
   "id": "killing-israel",
   "metadata": {},
   "outputs": [
    {
     "data": {
      "application/vnd.jupyter.widget-view+json": {
       "model_id": "2ea1130999424db99f32f1ad83d253fb",
       "version_major": 2,
       "version_minor": 0
      },
      "text/plain": [
       "VBox()"
      ]
     },
     "metadata": {},
     "output_type": "display_data"
    },
    {
     "data": {
      "application/vnd.jupyter.widget-view+json": {
       "model_id": "",
       "version_major": 2,
       "version_minor": 0
      },
      "text/plain": [
       "FloatProgress(value=0.0, bar_style='info', description='Progress:', layout=Layout(height='25px', width='50%'),…"
      ]
     },
     "metadata": {},
     "output_type": "display_data"
    }
   ],
   "source": [
    "kmeans_model = kmeans_estimator.fit(training_data)"
   ]
  },
  {
   "cell_type": "markdown",
   "id": "miniature-alpha",
   "metadata": {},
   "source": [
    "<br><br>\n",
    "### 3.4 Monitor the training job on the SageMaker Console\n",
    "Open the <a href=\"https://us-east-2.console.aws.amazon.com/sagemaker/home?#/jobs\">Amazon SageMaker console </a> and observe how an Amazon SageMaker Training job is created and running\n",
    "<br><br>\n",
    "<img src=\"https://github.com/lgbaeza/mycloudstuff/raw/main/aws/by-service/emr/pysparknotebook/img/training-jobs.png\">"
   ]
  },
  {
   "cell_type": "markdown",
   "id": "thirty-profession",
   "metadata": {},
   "source": [
    "<br><br>\n",
    "### 3.5 Find the trained model\n",
    "When the training job is complete, open the <a href=\"https://console.aws.amazon.com/sagemaker/home?#/models\">Amazon SageMaker Console</a> to find the trained model\n",
    "<img src=\"https://github.com/lgbaeza/mycloudstuff/raw/main/aws/by-service/emr/pysparknotebook/img/models.png\">"
   ]
  },
  {
   "cell_type": "markdown",
   "id": "purple-mediterranean",
   "metadata": {},
   "source": [
    "<br><br>\n",
    "<a id=\"section4\"></a>\n",
    "# 4. Inference"
   ]
  },
  {
   "cell_type": "markdown",
   "id": "exotic-grill",
   "metadata": {},
   "source": [
    "To get inferences from a model hosted in SageMaker, you call the <b>SageMakerModel.transform</b> method. The transform method simplifies the inference process by doing the following under-the-hood:\n",
    "* Receives a DataFrame as input\n",
    "* Serializes the features column to protobuf and sends it to the SageMaker endpoint for inference\n",
    "* Deserializes the protobuf response into the two additional columns (distance_to_cluster and closest_cluster)\n",
    "* Transforms the inferences obtained from the model in the transformed DataFrame\n",
    "* Returns another DataFrame containing inferences obtained from the model"
   ]
  },
  {
   "cell_type": "markdown",
   "id": "large-appraisal",
   "metadata": {},
   "source": [
    "### 4.1 Find the SageMaker endpoint\n",
    "Open the [Amazon SageMaker Console](https://console.aws.amazon.com/sagemaker/home?#/endpoints) to find the ednpoint created by the <b>fit method</b>\n",
    "<img src=\"https://github.com/lgbaeza/mycloudstuff/raw/main/aws/by-service/emr/pysparknotebook/img/endpoints.png\">"
   ]
  },
  {
   "cell_type": "markdown",
   "id": "greenhouse-january",
   "metadata": {},
   "source": [
    "<br><br>\n",
    "### 4.2 Call the Transform() method"
   ]
  },
  {
   "cell_type": "code",
   "execution_count": 24,
   "id": "suburban-chancellor",
   "metadata": {},
   "outputs": [
    {
     "data": {
      "application/vnd.jupyter.widget-view+json": {
       "model_id": "b701c4eba4834f99b749fa54dcae122b",
       "version_major": 2,
       "version_minor": 0
      },
      "text/plain": [
       "VBox()"
      ]
     },
     "metadata": {},
     "output_type": "display_data"
    },
    {
     "data": {
      "application/vnd.jupyter.widget-view+json": {
       "model_id": "",
       "version_major": 2,
       "version_minor": 0
      },
      "text/plain": [
       "FloatProgress(value=0.0, bar_style='info', description='Progress:', layout=Layout(height='25px', width='50%'),…"
      ]
     },
     "metadata": {},
     "output_type": "display_data"
    }
   ],
   "source": [
    "transformed_data = kmeans_model.transform(test_data)"
   ]
  },
  {
   "cell_type": "markdown",
   "id": "fitting-alexander",
   "metadata": {},
   "source": [
    "<br><br>\n",
    "### 4.3 Work with the inference results\n",
    "Now you can work on the inference results the same way you will with any Spark DataFrame"
   ]
  },
  {
   "cell_type": "code",
   "execution_count": 25,
   "id": "sensitive-mistake",
   "metadata": {},
   "outputs": [
    {
     "data": {
      "application/vnd.jupyter.widget-view+json": {
       "model_id": "f1cf2fb7fa32453b8e1814a052274d27",
       "version_major": 2,
       "version_minor": 0
      },
      "text/plain": [
       "VBox()"
      ]
     },
     "metadata": {},
     "output_type": "display_data"
    },
    {
     "data": {
      "application/vnd.jupyter.widget-view+json": {
       "model_id": "",
       "version_major": 2,
       "version_minor": 0
      },
      "text/plain": [
       "FloatProgress(value=0.0, bar_style='info', description='Progress:', layout=Layout(height='25px', width='50%'),…"
      ]
     },
     "metadata": {},
     "output_type": "display_data"
    },
    {
     "name": "stdout",
     "output_type": "stream",
     "text": [
      "+-----+--------------------+-------------------+---------------+\n",
      "|label|            features|distance_to_cluster|closest_cluster|\n",
      "+-----+--------------------+-------------------+---------------+\n",
      "|  7.0|(784,[202,203,204...|  1396.271240234375|            9.0|\n",
      "|  2.0|(784,[94,95,96,97...|  2037.256103515625|            8.0|\n",
      "|  1.0|(784,[128,129,130...| 1037.6932373046875|            2.0|\n",
      "|  0.0|(784,[124,125,126...| 1624.5045166015625|            5.0|\n",
      "|  4.0|(784,[150,151,159...| 1375.3685302734375|            1.0|\n",
      "+-----+--------------------+-------------------+---------------+\n",
      "only showing top 5 rows"
     ]
    }
   ],
   "source": [
    "transformed_data.show(5)"
   ]
  },
  {
   "cell_type": "markdown",
   "id": "first-barcelona",
   "metadata": {},
   "source": [
    "<br><br>\n",
    "<a id=\"section5\"></a>\n",
    "# 5 Analyze the results\n",
    "### 5.1 Compare clusters vs labels\n",
    "Lets find the top 15 closest_cluster with their corresponding labels. "
   ]
  },
  {
   "cell_type": "code",
   "execution_count": 45,
   "id": "acquired-immunology",
   "metadata": {},
   "outputs": [
    {
     "data": {
      "application/vnd.jupyter.widget-view+json": {
       "model_id": "ebf34f87a23d4ddd9ddebede2e053761",
       "version_major": 2,
       "version_minor": 0
      },
      "text/plain": [
       "VBox()"
      ]
     },
     "metadata": {},
     "output_type": "display_data"
    },
    {
     "data": {
      "application/vnd.jupyter.widget-view+json": {
       "model_id": "",
       "version_major": 2,
       "version_minor": 0
      },
      "text/plain": [
       "FloatProgress(value=0.0, bar_style='info', description='Progress:', layout=Layout(height='25px', width='50%'),…"
      ]
     },
     "metadata": {},
     "output_type": "display_data"
    }
   ],
   "source": [
    "topClusters = transformed_data.groupby(\"closest_cluster\",\"label\").count().sort(col(\"count\").desc()).take(15)"
   ]
  },
  {
   "cell_type": "markdown",
   "id": "attractive-income",
   "metadata": {},
   "source": [
    "You will find that the label and cluster are not the same, since the clustering is an unsupervised algorythm and doesn't take into account the labels"
   ]
  },
  {
   "cell_type": "code",
   "execution_count": 83,
   "id": "intensive-sponsorship",
   "metadata": {},
   "outputs": [
    {
     "data": {
      "application/vnd.jupyter.widget-view+json": {
       "model_id": "effef3afd97d4cbc8def83f0e90df937",
       "version_major": 2,
       "version_minor": 0
      },
      "text/plain": [
       "VBox()"
      ]
     },
     "metadata": {},
     "output_type": "display_data"
    },
    {
     "data": {
      "application/vnd.jupyter.widget-view+json": {
       "model_id": "",
       "version_major": 2,
       "version_minor": 0
      },
      "text/plain": [
       "FloatProgress(value=0.0, bar_style='info', description='Progress:', layout=Layout(height='25px', width='50%'),…"
      ]
     },
     "metadata": {},
     "output_type": "display_data"
    },
    {
     "name": "stdout",
     "output_type": "stream",
     "text": [
      "+---------------+-----+-----+\n",
      "|closest_cluster|label|count|\n",
      "+---------------+-----+-----+\n",
      "|            5.0|  0.0|  802|\n",
      "|            3.0|  6.0|  752|\n",
      "|            2.0|  1.0|  750|\n",
      "|            6.0|  2.0|  736|\n",
      "|            8.0|  3.0|  724|\n",
      "|            0.0|  8.0|  591|\n",
      "|            1.0|  4.0|  485|\n",
      "|            9.0|  7.0|  482|\n",
      "|            1.0|  9.0|  418|\n",
      "|            9.0|  9.0|  405|\n",
      "|            4.0|  1.0|  379|\n",
      "|            0.0|  5.0|  321|\n",
      "|            7.0|  7.0|  285|\n",
      "|            8.0|  5.0|  265|\n",
      "|            9.0|  4.0|  238|\n",
      "+---------------+-----+-----+"
     ]
    }
   ],
   "source": [
    "TopClustersDf = spark.createDataFrame(topClusters)\n",
    "TopClustersDf.collect()\n",
    "TopClustersDf.show()"
   ]
  },
  {
   "cell_type": "markdown",
   "id": "increasing-sunrise",
   "metadata": {},
   "source": [
    "You can interpret the data, as follows:\n",
    "* A handwritten number with the label 5 belongs to cluster 4 (closest_cluster).\n",
    "* A handwritten number with the label 0 belongs to cluster 5.\n",
    "* A handwritten number with the label 4 belongs to cluster 9.\n",
    "\n",
    "<br><br>\n",
    "To find more about this example visit [the AWS SageMaker Github](https://github.com/aws/sagemaker-spark/blob/master/README.md)"
   ]
  }
 ],
 "metadata": {
  "kernelspec": {
   "display_name": "PySpark",
   "language": "",
   "name": "pysparkkernel"
  },
  "language_info": {
   "codemirror_mode": {
    "name": "python",
    "version": 2
   },
   "mimetype": "text/x-python",
   "name": "pyspark",
   "pygments_lexer": "python2"
  }
 },
 "nbformat": 4,
 "nbformat_minor": 5
}
